{
 "cells": [
  {
   "cell_type": "code",
   "execution_count": 1,
   "metadata": {},
   "outputs": [],
   "source": [
    "from datetime import datetime\n",
    "import plotly.express as px\n",
    "import polars as pl\n",
    "import os\n",
    "import glob\n",
    "\n",
    "DATA_DIR = \"/Users/patrickaigner/Documents/PROJECTS/ACROPOLIS-edge/ThingsBoard-Downloader/data\"\n",
    "\n",
    "start_date = datetime(2025, 2, 1, 0, 0, 0)\n",
    "end_date = datetime(2025, 2 ,28, 23, 59, 59)\n",
    "\n",
    "filter = '1h'\n",
    "sensor_id = [1,2,3,4,5,6,7,8,9,10,11,12,13,14,15,16,17,18,19,20]\n",
    "sensor_id = [3,6]"
   ]
  },
  {
   "cell_type": "code",
   "execution_count": 2,
   "metadata": {},
   "outputs": [],
   "source": [
    "data_paths = glob.glob(os.path.join(DATA_DIR, \"2025\", \"*.parquet\"))\n",
    "\n",
    "dfs = []\n",
    "\n",
    "for path in data_paths:\n",
    "    dfs.append(pl.read_parquet(path).with_columns(system_name = pl.lit(os.path.basename(path).split(\".\")[0])))\n",
    "    \n",
    "df = pl.concat(dfs, how=\"diagonal\") \\\n",
    "    .filter(pl.col(\"datetime\").is_between(start_date, end_date)) \\\n",
    "    .with_columns(pl.col(\"system_name\").str.extract(r'(\\d+)',1).str.to_integer().alias(\"system_id\"))\n",
    "    \n",
    "\n",
    "df = df.filter(pl.col(\"system_id\").is_in(sensor_id))"
   ]
  },
  {
   "cell_type": "code",
   "execution_count": 3,
   "metadata": {},
   "outputs": [
    {
     "data": {
      "application/vnd.plotly.v1+json": {
       "config": {
        "plotlyServerURL": "https://plot.ly"
       },
       "data": [
        {
         "hovertemplate": "system_id=3<br>datetime=%{x}<br>gmp343_edge_corrected=%{y}<extra></extra>",
         "legendgroup": "3",
         "line": {
          "color": "#636efa",
          "dash": "solid"
         },
         "marker": {
          "symbol": "circle"
         },
         "mode": "lines+markers",
         "name": "3",
         "orientation": "v",
         "showlegend": true,
         "type": "scatter",
         "x": [
          "2025-02-01T00:00:00.000",
          "2025-02-01T01:00:00.000",
          "2025-02-01T02:00:00.000",
          "2025-02-01T03:00:00.000",
          "2025-02-01T04:00:00.000",
          "2025-02-01T05:00:00.000",
          "2025-02-01T06:00:00.000",
          "2025-02-01T07:00:00.000",
          "2025-02-01T08:00:00.000",
          "2025-02-01T09:00:00.000",
          "2025-02-01T10:00:00.000",
          "2025-02-01T11:00:00.000",
          "2025-02-01T12:00:00.000",
          "2025-02-01T13:00:00.000",
          "2025-02-01T14:00:00.000",
          "2025-02-01T15:00:00.000",
          "2025-02-01T16:00:00.000",
          "2025-02-01T17:00:00.000",
          "2025-02-01T18:00:00.000",
          "2025-02-01T19:00:00.000",
          "2025-02-01T20:00:00.000",
          "2025-02-01T21:00:00.000",
          "2025-02-01T22:00:00.000",
          "2025-02-01T23:00:00.000",
          "2025-02-02T00:00:00.000",
          "2025-02-02T01:00:00.000",
          "2025-02-02T02:00:00.000",
          "2025-02-02T03:00:00.000",
          "2025-02-02T04:00:00.000",
          "2025-02-02T05:00:00.000",
          "2025-02-02T06:00:00.000",
          "2025-02-02T07:00:00.000",
          "2025-02-02T08:00:00.000",
          "2025-02-02T09:00:00.000",
          "2025-02-02T10:00:00.000",
          "2025-02-02T11:00:00.000",
          "2025-02-02T12:00:00.000",
          "2025-02-02T13:00:00.000",
          "2025-02-02T14:00:00.000",
          "2025-02-02T15:00:00.000",
          "2025-02-02T16:00:00.000",
          "2025-02-02T17:00:00.000",
          "2025-02-02T18:00:00.000",
          "2025-02-02T19:00:00.000",
          "2025-02-02T20:00:00.000",
          "2025-02-02T21:00:00.000",
          "2025-02-02T22:00:00.000",
          "2025-02-02T23:00:00.000",
          "2025-02-03T00:00:00.000",
          "2025-02-03T01:00:00.000",
          "2025-02-03T02:00:00.000",
          "2025-02-03T03:00:00.000",
          "2025-02-03T04:00:00.000",
          "2025-02-03T05:00:00.000",
          "2025-02-03T06:00:00.000",
          "2025-02-03T07:00:00.000",
          "2025-02-03T08:00:00.000",
          "2025-02-03T09:00:00.000",
          "2025-02-03T10:00:00.000",
          "2025-02-03T11:00:00.000",
          "2025-02-03T12:00:00.000",
          "2025-02-03T13:00:00.000",
          "2025-02-03T14:00:00.000",
          "2025-02-03T15:00:00.000",
          "2025-02-03T16:00:00.000",
          "2025-02-03T17:00:00.000",
          "2025-02-03T18:00:00.000",
          "2025-02-03T19:00:00.000",
          "2025-02-03T20:00:00.000",
          "2025-02-03T21:00:00.000",
          "2025-02-03T22:00:00.000",
          "2025-02-03T23:00:00.000",
          "2025-02-04T00:00:00.000",
          "2025-02-04T01:00:00.000",
          "2025-02-04T02:00:00.000",
          "2025-02-04T03:00:00.000",
          "2025-02-04T04:00:00.000",
          "2025-02-04T05:00:00.000",
          "2025-02-04T06:00:00.000",
          "2025-02-04T07:00:00.000",
          "2025-02-04T08:00:00.000",
          "2025-02-04T09:00:00.000",
          "2025-02-04T10:00:00.000",
          "2025-02-04T11:00:00.000",
          "2025-02-04T12:00:00.000",
          "2025-02-04T13:00:00.000",
          "2025-02-04T14:00:00.000",
          "2025-02-04T15:00:00.000",
          "2025-02-04T16:00:00.000",
          "2025-02-04T17:00:00.000",
          "2025-02-04T18:00:00.000",
          "2025-02-04T19:00:00.000",
          "2025-02-04T20:00:00.000",
          "2025-02-04T21:00:00.000",
          "2025-02-04T22:00:00.000",
          "2025-02-04T23:00:00.000",
          "2025-02-05T00:00:00.000",
          "2025-02-05T01:00:00.000",
          "2025-02-05T02:00:00.000",
          "2025-02-05T03:00:00.000",
          "2025-02-05T04:00:00.000",
          "2025-02-05T05:00:00.000",
          "2025-02-05T06:00:00.000",
          "2025-02-05T07:00:00.000",
          "2025-02-05T08:00:00.000",
          "2025-02-05T09:00:00.000",
          "2025-02-05T10:00:00.000",
          "2025-02-05T11:00:00.000",
          "2025-02-05T12:00:00.000",
          "2025-02-05T13:00:00.000",
          "2025-02-05T14:00:00.000",
          "2025-02-05T15:00:00.000",
          "2025-02-05T16:00:00.000",
          "2025-02-05T17:00:00.000",
          "2025-02-05T18:00:00.000",
          "2025-02-05T19:00:00.000",
          "2025-02-05T20:00:00.000",
          "2025-02-05T21:00:00.000",
          "2025-02-05T22:00:00.000",
          "2025-02-05T23:00:00.000",
          "2025-02-06T00:00:00.000",
          "2025-02-06T01:00:00.000",
          "2025-02-06T02:00:00.000",
          "2025-02-06T03:00:00.000",
          "2025-02-06T04:00:00.000",
          "2025-02-06T05:00:00.000",
          "2025-02-06T06:00:00.000",
          "2025-02-06T07:00:00.000",
          "2025-02-06T08:00:00.000",
          "2025-02-06T09:00:00.000",
          "2025-02-06T10:00:00.000",
          "2025-02-06T11:00:00.000",
          "2025-02-06T12:00:00.000",
          "2025-02-06T13:00:00.000",
          "2025-02-06T14:00:00.000",
          "2025-02-06T15:00:00.000",
          "2025-02-06T16:00:00.000",
          "2025-02-06T17:00:00.000",
          "2025-02-06T18:00:00.000",
          "2025-02-06T19:00:00.000",
          "2025-02-06T20:00:00.000",
          "2025-02-06T21:00:00.000",
          "2025-02-06T22:00:00.000",
          "2025-02-06T23:00:00.000",
          "2025-02-07T00:00:00.000",
          "2025-02-07T01:00:00.000",
          "2025-02-07T02:00:00.000",
          "2025-02-07T03:00:00.000",
          "2025-02-07T04:00:00.000",
          "2025-02-07T05:00:00.000",
          "2025-02-07T06:00:00.000",
          "2025-02-07T07:00:00.000",
          "2025-02-07T08:00:00.000"
         ],
         "xaxis": "x",
         "y": {
          "bdata": "pMvtDzKZe0BYwZxTwYR7QI6kdvB7nXtAKEIRilD6e0CemZmZmRx8QLOBThvoD3xAZskvlvwjfEDzrGgk4CN8QBjHcRzHAXxAnJGAb17ce0DXSMA3r9N7QG3VEfUOwntAnhWNBHyye0AiO0xdbq17QE36pE/6pXtAcn+QobLKe0BUuB6F69Z7QBLwzauJ1ntAkh2mLrdZfEC5N68mnv18QLzU5fYHH31AzoIt2IIdfUD2KFyPwtR8QCGeFY0E3HxAy8zMzMyyfEBJ4XoUrrh8QKmqqqqqZnxAlz7pkz41fEAkB5mXEk18QArXo3A9LXxAwzevJp4hfECLJb9Y8kp8QF8LtmALRnxAjoBvXk0HfECrpWA49vR7QOSTPumTDnxAxDURyDUZfEA6MzMzMwN8QBpLfrHkCHxA0Cd90icQfECy5BdLfgR8QKUutz/I7XtAFGzBFmz4e0BiLPnFkgN8QFS4HoXrDHxAMxLwzasYfECNwvUoXAN8QOE4juM49ntA69XEs6L8e0BtTANxTPt7QDqBSvlGu3tAntMGOm25e0DG9Shcj9h7QHN/kKGywnxASZ/0SZ/+fECoGPSqGNx8QAvGMw/Ge3xAsGgk4JtwfEDrUbgehVF8QEZdbn+QR3xA/715NfFdfEDhAErcAGp8QMO7u7u7YXxAsM/WbweGfECPsPmLsHF8QOhy+4MMhnxAYc+qYc8CfUBlJOCbVxt9QJzbH2So+nxAJJ4VjQSlfEBeC7ZgCzN8QNqCLdiCwHxADtejcD0cfUDSJ33SJ1R9QLbc/iBDT31AEjJUdpjTfEAchetRuL98QMFY8oslonxAKFyPwvWKfEAAAAAAAPR8QMd1QrqisXxAujevJp5WfEDrtIFOG4J8QKAkgMAhmnxA6zB1uf2QfEChT/qkT6N8QMo4FMs4hHxA6XL7gwx6fEBy+4MMlWh8QI3jOI7jk3xA7s2riWeYfEDQikYCvsl8QEm4HoXrKn1AREREREQ9fUAGW7AFW5d9QL84JvwIm31Auj/IUNnKfUArGgn45jp9QDp37ty563xAl0xN9mvRfEAoZKjsMOF8QHyQobLDHH1A0uX2BxlffUBXNBLwzZ19QKKyw9TlA35AGyo7TF1TfkBJXW5/kFh+QAdbsAVbAH5AnhWNBHzPfUCDDJUdpk99QDrQaQOdqHxAWcti3Q+WfEAlQ2WHqa58QKjKE6bKU31A4QY6baCKfUAN8M2riYJ9QGSwQmew2n1ACRkqO0yXfUD2R9r+R1p9QAEhQ2WHwXxAtWgk4Jt5fEDco3A9CqZ8QAdbsAVbhnxANZb8YsmUfEAEnTbQaXl8QPxiyS+WnnxA+gcZKjvsfECOY8KPsPZ8QJr8YskvDH1AbjXxrGgafUAGGFQmhiF9QEDpkz7punxAhqnL7Q93fEDyauJZ0Sh8QN9h6nL7GHxAYXg8yCwSfEAE+ObVxBd8QBVLfrHk93tAcPuDDJXge0AkfLJwisR7QFzMp17Mv3tA3h9kqOyte0D2KFyPwrJ7QNWCLdiCvntACb55NfGae0B/seQXS417QKDVlwpajXtAISIiIiKhe0Dbgi3YgsF7QCSF61G42HtAkML1KFzwe0AU8KYU8A58QL1Y8osl7HtA",
          "dtype": "f8"
         },
         "yaxis": "y"
        },
        {
         "hovertemplate": "system_id=6<br>datetime=%{x}<br>gmp343_edge_corrected=%{y}<extra></extra>",
         "legendgroup": "6",
         "line": {
          "color": "#EF553B",
          "dash": "solid"
         },
         "marker": {
          "symbol": "circle"
         },
         "mode": "lines+markers",
         "name": "6",
         "orientation": "v",
         "showlegend": true,
         "type": "scatter",
         "x": [
          "2025-02-01T00:00:00.000",
          "2025-02-01T01:00:00.000",
          "2025-02-01T02:00:00.000",
          "2025-02-01T03:00:00.000",
          "2025-02-01T04:00:00.000",
          "2025-02-01T05:00:00.000",
          "2025-02-01T06:00:00.000",
          "2025-02-01T07:00:00.000",
          "2025-02-01T08:00:00.000",
          "2025-02-01T09:00:00.000",
          "2025-02-01T10:00:00.000",
          "2025-02-01T11:00:00.000",
          "2025-02-01T12:00:00.000",
          "2025-02-01T13:00:00.000",
          "2025-02-01T14:00:00.000",
          "2025-02-01T15:00:00.000",
          "2025-02-01T16:00:00.000",
          "2025-02-01T17:00:00.000",
          "2025-02-01T18:00:00.000",
          "2025-02-01T19:00:00.000",
          "2025-02-01T20:00:00.000",
          "2025-02-01T21:00:00.000",
          "2025-02-01T22:00:00.000",
          "2025-02-01T23:00:00.000",
          "2025-02-02T00:00:00.000",
          "2025-02-02T01:00:00.000",
          "2025-02-02T02:00:00.000",
          "2025-02-02T03:00:00.000",
          "2025-02-02T04:00:00.000",
          "2025-02-02T05:00:00.000",
          "2025-02-02T06:00:00.000",
          "2025-02-02T07:00:00.000",
          "2025-02-02T08:00:00.000",
          "2025-02-02T09:00:00.000",
          "2025-02-02T10:00:00.000",
          "2025-02-02T11:00:00.000",
          "2025-02-02T12:00:00.000",
          "2025-02-02T13:00:00.000",
          "2025-02-02T14:00:00.000",
          "2025-02-02T15:00:00.000",
          "2025-02-02T16:00:00.000",
          "2025-02-02T17:00:00.000",
          "2025-02-02T18:00:00.000",
          "2025-02-02T19:00:00.000",
          "2025-02-02T20:00:00.000",
          "2025-02-02T21:00:00.000",
          "2025-02-02T22:00:00.000",
          "2025-02-02T23:00:00.000",
          "2025-02-03T00:00:00.000",
          "2025-02-03T01:00:00.000",
          "2025-02-03T02:00:00.000",
          "2025-02-03T03:00:00.000",
          "2025-02-03T04:00:00.000",
          "2025-02-03T05:00:00.000",
          "2025-02-03T06:00:00.000",
          "2025-02-03T07:00:00.000",
          "2025-02-03T08:00:00.000",
          "2025-02-03T09:00:00.000",
          "2025-02-03T10:00:00.000",
          "2025-02-03T11:00:00.000",
          "2025-02-03T12:00:00.000",
          "2025-02-03T13:00:00.000",
          "2025-02-03T14:00:00.000",
          "2025-02-03T15:00:00.000",
          "2025-02-03T16:00:00.000",
          "2025-02-03T17:00:00.000",
          "2025-02-03T18:00:00.000",
          "2025-02-03T19:00:00.000",
          "2025-02-03T20:00:00.000",
          "2025-02-03T21:00:00.000",
          "2025-02-03T22:00:00.000",
          "2025-02-03T23:00:00.000",
          "2025-02-04T00:00:00.000",
          "2025-02-04T01:00:00.000",
          "2025-02-04T02:00:00.000",
          "2025-02-04T03:00:00.000",
          "2025-02-04T04:00:00.000",
          "2025-02-04T05:00:00.000",
          "2025-02-04T06:00:00.000",
          "2025-02-04T07:00:00.000",
          "2025-02-04T08:00:00.000",
          "2025-02-04T09:00:00.000",
          "2025-02-04T10:00:00.000",
          "2025-02-04T11:00:00.000",
          "2025-02-04T12:00:00.000",
          "2025-02-04T13:00:00.000",
          "2025-02-04T14:00:00.000",
          "2025-02-04T15:00:00.000",
          "2025-02-04T16:00:00.000",
          "2025-02-04T17:00:00.000",
          "2025-02-04T18:00:00.000",
          "2025-02-04T19:00:00.000",
          "2025-02-04T20:00:00.000",
          "2025-02-04T21:00:00.000",
          "2025-02-04T22:00:00.000",
          "2025-02-04T23:00:00.000",
          "2025-02-05T00:00:00.000",
          "2025-02-05T01:00:00.000",
          "2025-02-05T02:00:00.000",
          "2025-02-05T03:00:00.000",
          "2025-02-05T04:00:00.000",
          "2025-02-05T05:00:00.000",
          "2025-02-05T06:00:00.000",
          "2025-02-05T07:00:00.000",
          "2025-02-05T08:00:00.000",
          "2025-02-05T09:00:00.000",
          "2025-02-05T10:00:00.000",
          "2025-02-05T11:00:00.000",
          "2025-02-05T12:00:00.000",
          "2025-02-05T13:00:00.000",
          "2025-02-05T14:00:00.000",
          "2025-02-05T15:00:00.000",
          "2025-02-05T16:00:00.000",
          "2025-02-05T17:00:00.000",
          "2025-02-05T18:00:00.000",
          "2025-02-05T19:00:00.000",
          "2025-02-05T20:00:00.000",
          "2025-02-05T21:00:00.000",
          "2025-02-05T22:00:00.000",
          "2025-02-05T23:00:00.000",
          "2025-02-06T00:00:00.000",
          "2025-02-06T01:00:00.000",
          "2025-02-06T02:00:00.000",
          "2025-02-06T03:00:00.000",
          "2025-02-06T04:00:00.000",
          "2025-02-06T05:00:00.000",
          "2025-02-06T06:00:00.000",
          "2025-02-06T07:00:00.000",
          "2025-02-06T08:00:00.000",
          "2025-02-06T09:00:00.000",
          "2025-02-06T10:00:00.000",
          "2025-02-06T11:00:00.000",
          "2025-02-06T12:00:00.000",
          "2025-02-06T13:00:00.000",
          "2025-02-06T14:00:00.000",
          "2025-02-06T15:00:00.000",
          "2025-02-06T16:00:00.000",
          "2025-02-06T17:00:00.000",
          "2025-02-06T18:00:00.000",
          "2025-02-06T19:00:00.000",
          "2025-02-06T20:00:00.000",
          "2025-02-06T21:00:00.000",
          "2025-02-06T22:00:00.000",
          "2025-02-06T23:00:00.000",
          "2025-02-07T00:00:00.000",
          "2025-02-07T01:00:00.000",
          "2025-02-07T02:00:00.000",
          "2025-02-07T03:00:00.000",
          "2025-02-07T04:00:00.000",
          "2025-02-07T05:00:00.000",
          "2025-02-07T06:00:00.000",
          "2025-02-07T07:00:00.000",
          "2025-02-07T08:00:00.000"
         ],
         "xaxis": "x",
         "y": {
          "bdata": "dQEmbwGWe0Bn7T7cAoJ7QKbsMHW5iHtAWI/C9Sjue0ByXk08Kw18QDXQaQOd93tA/Efa/kcCfEDi9gcZKgF8QPCsaCTg5HtABL55NfHGe0DhehSuR7h7QMN5NfGsoHtAf5ChssOPe0ARdNpAp4t7QNo4juM4gntAq4M6qIOye0D95tXEs8l7QGFuf5ChxntA8wcZKjtOfEDwcvuDDO98QHnzauJZDX1A/0mf9EkRfUA1baDTBsZ8QLBq2LNqyHxArlUyjaOWfEBv+4MMlad8QEBAIqNqMnxAiiW/WPIdfECBseQXS0B8QNKCLdiCGXxAudz+IEMGfED5auJZ0Sl8QJT8YskvLnxA6RdLfrH3e0AaIiIiIut7QHfSJ33S+XtA+M7HLZUOfECEpu+Bpu97QJ/0SZ/0+XtAy1DZYer9e0BHn/RJn+57QNW8mnhWy3tAvP1BhsrUe0AwVHaYutx7QO/NokmA53tAMK8mnhXye0DorGgk4Nt7QMsnfdIn23tA96xoJODde0AVEREREdh7QBfPikYClntAAJ020GmXe0AB16NwPb97QLpgC7ZgpnxAP0RERETefEAsGgn45sh8QHfzauJZanxAAgEBAQFRfEA9Ar55NTR8QDptoNMGMXxAkcL1KFxKfEAvO0xdbl58QEOGyg5TU3xA5f4gQ2V5fED3Yskvlmd8QBumLrc/eXxAWzQS8M30fEAYNH0PNAV9QJqAb15N63xABhkqO0yLfEDw2qsZxBN8QNsQJfEInnxAvJp4VjQBfUCOJb9Y8jp9QLHihnqRFH1A8ELV+ULFfEDliyW/WLF8QHADDCoTg3xAA6VP+qRzfEAabMEWbOR8QAEE7TR0onxAw/UoXI9EfECDNfGsaG58QIdnRSMBk3xAQFEc4xqGfECVVxPPipp8QMQ0EMc0gHxAQCMB37x3fEC2WPKLJWN8QG6g0wY6jXxANAXDsSeLfEDWdO97icR8QHm5/UGGIH1Av1jyiyU0fUARz4pGAod9QPf1XMWygX1A0WkDnTbDfUBUj8L1KC99QO5RuB6F/nxAddpApw2vfEBymLrc/rx8QGQLtmAL+nxA67SBThtNfUB2+4MMlY19QOSbVxPP931AZQu2YAtFfkB2VjQS8EZ+QDB1uf1B8n1AHwn45tWzfUDRikYCvix9QJuRgG9ejHxA5hdLfrFzfEAQ8M2riaR8QJDC9ShcTn1A5HoUrkeBfUDwiyW/WHd9QEAjAd+82H1AfzXxrGiWfUDzxZJfLGR9QB4qO0xdvnxAsGXTrmVzfEDexLOikaF8QFJDINpNeXxAybOikYCFfEB0QBQmp2x8QIkMlR2mjXxASQK+eTXOfECHBHzzatZ8QE48KxoJ8nxA4t3d3d0AfUA10GkDnQp9QK4FW7AFpHxAnnA9CtdefEB1uf1BhhB8QNTEs6KRBHxAjSW/WPL5e0AkAd+8mv57QMOzopGA3HtAbMEWbMHHe0AvGgn45rF7QLImnhWNp3tAEWzBFmyRe0DDUNlh6pN7QJ420GkDoXtAG2So7DB8e0DVSMA3r3N7QASdpcOseHtAxxZswRaRe0DGL5b8Yqt7QKsFW7AFw3tAIgn45tXfe0CUgG9eTf57QHQnoUAj3ntA",
          "dtype": "f8"
         },
         "yaxis": "y"
        }
       ],
       "layout": {
        "legend": {
         "title": {
          "text": "system_id"
         },
         "tracegroupgap": 0
        },
        "margin": {
         "t": 60
        },
        "template": {
         "data": {
          "bar": [
           {
            "error_x": {
             "color": "#2a3f5f"
            },
            "error_y": {
             "color": "#2a3f5f"
            },
            "marker": {
             "line": {
              "color": "#E5ECF6",
              "width": 0.5
             },
             "pattern": {
              "fillmode": "overlay",
              "size": 10,
              "solidity": 0.2
             }
            },
            "type": "bar"
           }
          ],
          "barpolar": [
           {
            "marker": {
             "line": {
              "color": "#E5ECF6",
              "width": 0.5
             },
             "pattern": {
              "fillmode": "overlay",
              "size": 10,
              "solidity": 0.2
             }
            },
            "type": "barpolar"
           }
          ],
          "carpet": [
           {
            "aaxis": {
             "endlinecolor": "#2a3f5f",
             "gridcolor": "white",
             "linecolor": "white",
             "minorgridcolor": "white",
             "startlinecolor": "#2a3f5f"
            },
            "baxis": {
             "endlinecolor": "#2a3f5f",
             "gridcolor": "white",
             "linecolor": "white",
             "minorgridcolor": "white",
             "startlinecolor": "#2a3f5f"
            },
            "type": "carpet"
           }
          ],
          "choropleth": [
           {
            "colorbar": {
             "outlinewidth": 0,
             "ticks": ""
            },
            "type": "choropleth"
           }
          ],
          "contour": [
           {
            "colorbar": {
             "outlinewidth": 0,
             "ticks": ""
            },
            "colorscale": [
             [
              0,
              "#0d0887"
             ],
             [
              0.1111111111111111,
              "#46039f"
             ],
             [
              0.2222222222222222,
              "#7201a8"
             ],
             [
              0.3333333333333333,
              "#9c179e"
             ],
             [
              0.4444444444444444,
              "#bd3786"
             ],
             [
              0.5555555555555556,
              "#d8576b"
             ],
             [
              0.6666666666666666,
              "#ed7953"
             ],
             [
              0.7777777777777778,
              "#fb9f3a"
             ],
             [
              0.8888888888888888,
              "#fdca26"
             ],
             [
              1,
              "#f0f921"
             ]
            ],
            "type": "contour"
           }
          ],
          "contourcarpet": [
           {
            "colorbar": {
             "outlinewidth": 0,
             "ticks": ""
            },
            "type": "contourcarpet"
           }
          ],
          "heatmap": [
           {
            "colorbar": {
             "outlinewidth": 0,
             "ticks": ""
            },
            "colorscale": [
             [
              0,
              "#0d0887"
             ],
             [
              0.1111111111111111,
              "#46039f"
             ],
             [
              0.2222222222222222,
              "#7201a8"
             ],
             [
              0.3333333333333333,
              "#9c179e"
             ],
             [
              0.4444444444444444,
              "#bd3786"
             ],
             [
              0.5555555555555556,
              "#d8576b"
             ],
             [
              0.6666666666666666,
              "#ed7953"
             ],
             [
              0.7777777777777778,
              "#fb9f3a"
             ],
             [
              0.8888888888888888,
              "#fdca26"
             ],
             [
              1,
              "#f0f921"
             ]
            ],
            "type": "heatmap"
           }
          ],
          "histogram": [
           {
            "marker": {
             "pattern": {
              "fillmode": "overlay",
              "size": 10,
              "solidity": 0.2
             }
            },
            "type": "histogram"
           }
          ],
          "histogram2d": [
           {
            "colorbar": {
             "outlinewidth": 0,
             "ticks": ""
            },
            "colorscale": [
             [
              0,
              "#0d0887"
             ],
             [
              0.1111111111111111,
              "#46039f"
             ],
             [
              0.2222222222222222,
              "#7201a8"
             ],
             [
              0.3333333333333333,
              "#9c179e"
             ],
             [
              0.4444444444444444,
              "#bd3786"
             ],
             [
              0.5555555555555556,
              "#d8576b"
             ],
             [
              0.6666666666666666,
              "#ed7953"
             ],
             [
              0.7777777777777778,
              "#fb9f3a"
             ],
             [
              0.8888888888888888,
              "#fdca26"
             ],
             [
              1,
              "#f0f921"
             ]
            ],
            "type": "histogram2d"
           }
          ],
          "histogram2dcontour": [
           {
            "colorbar": {
             "outlinewidth": 0,
             "ticks": ""
            },
            "colorscale": [
             [
              0,
              "#0d0887"
             ],
             [
              0.1111111111111111,
              "#46039f"
             ],
             [
              0.2222222222222222,
              "#7201a8"
             ],
             [
              0.3333333333333333,
              "#9c179e"
             ],
             [
              0.4444444444444444,
              "#bd3786"
             ],
             [
              0.5555555555555556,
              "#d8576b"
             ],
             [
              0.6666666666666666,
              "#ed7953"
             ],
             [
              0.7777777777777778,
              "#fb9f3a"
             ],
             [
              0.8888888888888888,
              "#fdca26"
             ],
             [
              1,
              "#f0f921"
             ]
            ],
            "type": "histogram2dcontour"
           }
          ],
          "mesh3d": [
           {
            "colorbar": {
             "outlinewidth": 0,
             "ticks": ""
            },
            "type": "mesh3d"
           }
          ],
          "parcoords": [
           {
            "line": {
             "colorbar": {
              "outlinewidth": 0,
              "ticks": ""
             }
            },
            "type": "parcoords"
           }
          ],
          "pie": [
           {
            "automargin": true,
            "type": "pie"
           }
          ],
          "scatter": [
           {
            "fillpattern": {
             "fillmode": "overlay",
             "size": 10,
             "solidity": 0.2
            },
            "type": "scatter"
           }
          ],
          "scatter3d": [
           {
            "line": {
             "colorbar": {
              "outlinewidth": 0,
              "ticks": ""
             }
            },
            "marker": {
             "colorbar": {
              "outlinewidth": 0,
              "ticks": ""
             }
            },
            "type": "scatter3d"
           }
          ],
          "scattercarpet": [
           {
            "marker": {
             "colorbar": {
              "outlinewidth": 0,
              "ticks": ""
             }
            },
            "type": "scattercarpet"
           }
          ],
          "scattergeo": [
           {
            "marker": {
             "colorbar": {
              "outlinewidth": 0,
              "ticks": ""
             }
            },
            "type": "scattergeo"
           }
          ],
          "scattergl": [
           {
            "marker": {
             "colorbar": {
              "outlinewidth": 0,
              "ticks": ""
             }
            },
            "type": "scattergl"
           }
          ],
          "scattermap": [
           {
            "marker": {
             "colorbar": {
              "outlinewidth": 0,
              "ticks": ""
             }
            },
            "type": "scattermap"
           }
          ],
          "scattermapbox": [
           {
            "marker": {
             "colorbar": {
              "outlinewidth": 0,
              "ticks": ""
             }
            },
            "type": "scattermapbox"
           }
          ],
          "scatterpolar": [
           {
            "marker": {
             "colorbar": {
              "outlinewidth": 0,
              "ticks": ""
             }
            },
            "type": "scatterpolar"
           }
          ],
          "scatterpolargl": [
           {
            "marker": {
             "colorbar": {
              "outlinewidth": 0,
              "ticks": ""
             }
            },
            "type": "scatterpolargl"
           }
          ],
          "scatterternary": [
           {
            "marker": {
             "colorbar": {
              "outlinewidth": 0,
              "ticks": ""
             }
            },
            "type": "scatterternary"
           }
          ],
          "surface": [
           {
            "colorbar": {
             "outlinewidth": 0,
             "ticks": ""
            },
            "colorscale": [
             [
              0,
              "#0d0887"
             ],
             [
              0.1111111111111111,
              "#46039f"
             ],
             [
              0.2222222222222222,
              "#7201a8"
             ],
             [
              0.3333333333333333,
              "#9c179e"
             ],
             [
              0.4444444444444444,
              "#bd3786"
             ],
             [
              0.5555555555555556,
              "#d8576b"
             ],
             [
              0.6666666666666666,
              "#ed7953"
             ],
             [
              0.7777777777777778,
              "#fb9f3a"
             ],
             [
              0.8888888888888888,
              "#fdca26"
             ],
             [
              1,
              "#f0f921"
             ]
            ],
            "type": "surface"
           }
          ],
          "table": [
           {
            "cells": {
             "fill": {
              "color": "#EBF0F8"
             },
             "line": {
              "color": "white"
             }
            },
            "header": {
             "fill": {
              "color": "#C8D4E3"
             },
             "line": {
              "color": "white"
             }
            },
            "type": "table"
           }
          ]
         },
         "layout": {
          "annotationdefaults": {
           "arrowcolor": "#2a3f5f",
           "arrowhead": 0,
           "arrowwidth": 1
          },
          "autotypenumbers": "strict",
          "coloraxis": {
           "colorbar": {
            "outlinewidth": 0,
            "ticks": ""
           }
          },
          "colorscale": {
           "diverging": [
            [
             0,
             "#8e0152"
            ],
            [
             0.1,
             "#c51b7d"
            ],
            [
             0.2,
             "#de77ae"
            ],
            [
             0.3,
             "#f1b6da"
            ],
            [
             0.4,
             "#fde0ef"
            ],
            [
             0.5,
             "#f7f7f7"
            ],
            [
             0.6,
             "#e6f5d0"
            ],
            [
             0.7,
             "#b8e186"
            ],
            [
             0.8,
             "#7fbc41"
            ],
            [
             0.9,
             "#4d9221"
            ],
            [
             1,
             "#276419"
            ]
           ],
           "sequential": [
            [
             0,
             "#0d0887"
            ],
            [
             0.1111111111111111,
             "#46039f"
            ],
            [
             0.2222222222222222,
             "#7201a8"
            ],
            [
             0.3333333333333333,
             "#9c179e"
            ],
            [
             0.4444444444444444,
             "#bd3786"
            ],
            [
             0.5555555555555556,
             "#d8576b"
            ],
            [
             0.6666666666666666,
             "#ed7953"
            ],
            [
             0.7777777777777778,
             "#fb9f3a"
            ],
            [
             0.8888888888888888,
             "#fdca26"
            ],
            [
             1,
             "#f0f921"
            ]
           ],
           "sequentialminus": [
            [
             0,
             "#0d0887"
            ],
            [
             0.1111111111111111,
             "#46039f"
            ],
            [
             0.2222222222222222,
             "#7201a8"
            ],
            [
             0.3333333333333333,
             "#9c179e"
            ],
            [
             0.4444444444444444,
             "#bd3786"
            ],
            [
             0.5555555555555556,
             "#d8576b"
            ],
            [
             0.6666666666666666,
             "#ed7953"
            ],
            [
             0.7777777777777778,
             "#fb9f3a"
            ],
            [
             0.8888888888888888,
             "#fdca26"
            ],
            [
             1,
             "#f0f921"
            ]
           ]
          },
          "colorway": [
           "#636efa",
           "#EF553B",
           "#00cc96",
           "#ab63fa",
           "#FFA15A",
           "#19d3f3",
           "#FF6692",
           "#B6E880",
           "#FF97FF",
           "#FECB52"
          ],
          "font": {
           "color": "#2a3f5f"
          },
          "geo": {
           "bgcolor": "white",
           "lakecolor": "white",
           "landcolor": "#E5ECF6",
           "showlakes": true,
           "showland": true,
           "subunitcolor": "white"
          },
          "hoverlabel": {
           "align": "left"
          },
          "hovermode": "closest",
          "mapbox": {
           "style": "light"
          },
          "paper_bgcolor": "white",
          "plot_bgcolor": "#E5ECF6",
          "polar": {
           "angularaxis": {
            "gridcolor": "white",
            "linecolor": "white",
            "ticks": ""
           },
           "bgcolor": "#E5ECF6",
           "radialaxis": {
            "gridcolor": "white",
            "linecolor": "white",
            "ticks": ""
           }
          },
          "scene": {
           "xaxis": {
            "backgroundcolor": "#E5ECF6",
            "gridcolor": "white",
            "gridwidth": 2,
            "linecolor": "white",
            "showbackground": true,
            "ticks": "",
            "zerolinecolor": "white"
           },
           "yaxis": {
            "backgroundcolor": "#E5ECF6",
            "gridcolor": "white",
            "gridwidth": 2,
            "linecolor": "white",
            "showbackground": true,
            "ticks": "",
            "zerolinecolor": "white"
           },
           "zaxis": {
            "backgroundcolor": "#E5ECF6",
            "gridcolor": "white",
            "gridwidth": 2,
            "linecolor": "white",
            "showbackground": true,
            "ticks": "",
            "zerolinecolor": "white"
           }
          },
          "shapedefaults": {
           "line": {
            "color": "#2a3f5f"
           }
          },
          "ternary": {
           "aaxis": {
            "gridcolor": "white",
            "linecolor": "white",
            "ticks": ""
           },
           "baxis": {
            "gridcolor": "white",
            "linecolor": "white",
            "ticks": ""
           },
           "bgcolor": "#E5ECF6",
           "caxis": {
            "gridcolor": "white",
            "linecolor": "white",
            "ticks": ""
           }
          },
          "title": {
           "x": 0.05
          },
          "xaxis": {
           "automargin": true,
           "gridcolor": "white",
           "linecolor": "white",
           "ticks": "",
           "title": {
            "standoff": 15
           },
           "zerolinecolor": "white",
           "zerolinewidth": 2
          },
          "yaxis": {
           "automargin": true,
           "gridcolor": "white",
           "linecolor": "white",
           "ticks": "",
           "title": {
            "standoff": 15
           },
           "zerolinecolor": "white",
           "zerolinewidth": 2
          }
         }
        },
        "xaxis": {
         "anchor": "y",
         "domain": [
          0,
          1
         ],
         "title": {
          "text": "datetime"
         }
        },
        "yaxis": {
         "anchor": "x",
         "domain": [
          0,
          1
         ],
         "title": {
          "text": "gmp343_edge_corrected"
         }
        }
       }
      }
     },
     "metadata": {},
     "output_type": "display_data"
    }
   ],
   "source": [
    "column_name = \"gmp343_edge_corrected\"\n",
    "\n",
    "df_plot = df.select([\"datetime\", \"system_id\", column_name]) \\\n",
    "      .group_by_dynamic(\"datetime\", every=filter, group_by=\"system_id\") \\\n",
    "      .agg(pl.col(column_name).mean())\n",
    "\n",
    "\n",
    "fig = px.line(\n",
    "    df_plot,\n",
    "    x=\"datetime\",\n",
    "    y=column_name,\n",
    "    markers=True,\n",
    "    color=\"system_id\"\n",
    ")\n",
    "fig.show()"
   ]
  }
 ],
 "metadata": {
  "kernelspec": {
   "display_name": ".venv",
   "language": "python",
   "name": "python3"
  },
  "language_info": {
   "codemirror_mode": {
    "name": "ipython",
    "version": 3
   },
   "file_extension": ".py",
   "mimetype": "text/x-python",
   "name": "python",
   "nbconvert_exporter": "python",
   "pygments_lexer": "ipython3",
   "version": "3.12.7"
  }
 },
 "nbformat": 4,
 "nbformat_minor": 2
}
