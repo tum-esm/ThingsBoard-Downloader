{
 "cells": [
  {
   "cell_type": "code",
   "execution_count": 1,
   "metadata": {},
   "outputs": [],
   "source": [
    "from datetime import datetime\n",
    "import plotly.express as px\n",
    "import polars as pl\n",
    "import numpy as np\n",
    "import os\n",
    "import glob\n",
    "\n",
    "DATA_DIR = \"/Users/patrickaigner/Documents/PROJECTS/ACROPOLIS-edge/ThingsBoard-Downloader/data\"\n",
    "PICARRO_DIR = \"/Users/patrickaigner/Documents/PROJECTS/acropolis-visualisation/data/processed/picarro/Calibrated_1_h_ICOS_Picarro_G2401_529.parquet\"\n",
    "\n",
    "start_date = datetime(2025, 1, 26, 3, 0, 0)\n",
    "end_date = datetime(2025, 1 ,30, 8, 0, 0)\n",
    "\n",
    "filter = '1h'\n",
    "sensor_id = [1,2,3,4,5,6,7,8,9,10,11,12,13,14,15,16,17,18,19,20]\n",
    "sensor_id = [3,6]"
   ]
  },
  {
   "cell_type": "code",
   "execution_count": 2,
   "metadata": {},
   "outputs": [],
   "source": [
    "data_paths = glob.glob(os.path.join(DATA_DIR, \"2025\", \"*.parquet\"))\n",
    "\n",
    "dfs = []\n",
    "\n",
    "for path in data_paths:\n",
    "    dfs.append(pl.read_parquet(path).with_columns(system_name = pl.lit(os.path.basename(path).split(\".\")[0])))\n",
    "    \n",
    "df = pl.concat(dfs, how=\"diagonal\") \\\n",
    "    .filter(pl.col(\"datetime\").is_between(start_date, end_date)) \\\n",
    "    .with_columns(pl.col(\"system_name\").str.extract(r'(\\d+)',1).str.to_integer().alias(\"system_id\"))\n",
    "    \n",
    "\n",
    "df = df.filter(pl.col(\"system_id\").is_in(sensor_id))"
   ]
  },
  {
   "cell_type": "code",
   "execution_count": 3,
   "metadata": {},
   "outputs": [],
   "source": [
    "df_p_icos = pl.read_parquet(PICARRO_DIR)"
   ]
  },
  {
   "cell_type": "code",
   "execution_count": 4,
   "metadata": {},
   "outputs": [],
   "source": [
    "df_p_icos = df_p_icos.rename({\"creation_timestamp\": \"datetime\", \"picarro_corrected\": \"CO2\"}) \\\n",
    "    .select([\"datetime\", \"CO2\"]) \\\n",
    "    .with_columns(pl.col(\"datetime\").cast(pl.Datetime(\"ms\"))) \\\n",
    "    .filter(pl.col(\"datetime\").is_between(start_date, end_date)) \\\n",
    "    .with_columns(system_name = pl.lit(\"Picarro_ICOS\")) \\\n",
    "    .with_columns(system_id = pl.lit(529)) \\\n",
    "    .with_columns(pl.col(\"system_id\").cast(pl.Int64))"
   ]
  },
  {
   "cell_type": "code",
   "execution_count": 5,
   "metadata": {},
   "outputs": [
    {
     "data": {
      "application/vnd.plotly.v1+json": {
       "config": {
        "plotlyServerURL": "https://plot.ly"
       },
       "data": [
        {
         "hovertemplate": "system_id=3<br>datetime=%{x}<br>CO2=%{y}<extra></extra>",
         "legendgroup": "3",
         "line": {
          "color": "#636efa",
          "dash": "solid"
         },
         "marker": {
          "symbol": "circle"
         },
         "mode": "lines+markers",
         "name": "3",
         "orientation": "v",
         "showlegend": true,
         "type": "scatter",
         "x": [
          "2025-01-26T03:00:00.000",
          "2025-01-26T04:00:00.000",
          "2025-01-26T05:00:00.000",
          "2025-01-26T06:00:00.000",
          "2025-01-26T07:00:00.000",
          "2025-01-26T08:00:00.000",
          "2025-01-26T09:00:00.000",
          "2025-01-26T10:00:00.000",
          "2025-01-26T11:00:00.000",
          "2025-01-26T12:00:00.000",
          "2025-01-26T13:00:00.000",
          "2025-01-26T14:00:00.000",
          "2025-01-26T15:00:00.000",
          "2025-01-26T16:00:00.000",
          "2025-01-26T17:00:00.000",
          "2025-01-26T18:00:00.000",
          "2025-01-26T19:00:00.000",
          "2025-01-26T20:00:00.000",
          "2025-01-26T21:00:00.000",
          "2025-01-26T22:00:00.000",
          "2025-01-26T23:00:00.000",
          "2025-01-27T00:00:00.000",
          "2025-01-27T01:00:00.000",
          "2025-01-27T02:00:00.000",
          "2025-01-27T03:00:00.000",
          "2025-01-27T04:00:00.000",
          "2025-01-27T05:00:00.000",
          "2025-01-27T06:00:00.000",
          "2025-01-27T07:00:00.000",
          "2025-01-27T08:00:00.000",
          "2025-01-27T09:00:00.000",
          "2025-01-27T10:00:00.000",
          "2025-01-27T11:00:00.000",
          "2025-01-27T12:00:00.000",
          "2025-01-27T13:00:00.000",
          "2025-01-27T14:00:00.000",
          "2025-01-27T15:00:00.000",
          "2025-01-27T16:00:00.000",
          "2025-01-27T17:00:00.000",
          "2025-01-27T18:00:00.000",
          "2025-01-27T19:00:00.000",
          "2025-01-27T20:00:00.000",
          "2025-01-27T21:00:00.000",
          "2025-01-27T22:00:00.000",
          "2025-01-27T23:00:00.000",
          "2025-01-28T00:00:00.000",
          "2025-01-28T01:00:00.000",
          "2025-01-28T02:00:00.000",
          "2025-01-28T03:00:00.000",
          "2025-01-28T04:00:00.000",
          "2025-01-28T05:00:00.000",
          "2025-01-28T06:00:00.000",
          "2025-01-28T07:00:00.000",
          "2025-01-28T08:00:00.000",
          "2025-01-28T09:00:00.000",
          "2025-01-28T10:00:00.000",
          "2025-01-28T11:00:00.000",
          "2025-01-28T12:00:00.000",
          "2025-01-28T13:00:00.000",
          "2025-01-28T14:00:00.000",
          "2025-01-28T15:00:00.000",
          "2025-01-28T16:00:00.000",
          "2025-01-28T17:00:00.000",
          "2025-01-28T18:00:00.000",
          "2025-01-28T19:00:00.000",
          "2025-01-28T20:00:00.000",
          "2025-01-28T21:00:00.000",
          "2025-01-28T22:00:00.000",
          "2025-01-28T23:00:00.000",
          "2025-01-29T00:00:00.000",
          "2025-01-29T01:00:00.000",
          "2025-01-29T02:00:00.000",
          "2025-01-29T03:00:00.000",
          "2025-01-29T04:00:00.000",
          "2025-01-29T05:00:00.000",
          "2025-01-29T06:00:00.000",
          "2025-01-29T07:00:00.000",
          "2025-01-29T08:00:00.000",
          "2025-01-29T09:00:00.000",
          "2025-01-29T10:00:00.000",
          "2025-01-29T11:00:00.000",
          "2025-01-29T12:00:00.000",
          "2025-01-29T13:00:00.000",
          "2025-01-29T14:00:00.000",
          "2025-01-29T15:00:00.000",
          "2025-01-29T16:00:00.000",
          "2025-01-29T17:00:00.000",
          "2025-01-29T18:00:00.000",
          "2025-01-29T19:00:00.000",
          "2025-01-29T20:00:00.000",
          "2025-01-29T21:00:00.000",
          "2025-01-29T22:00:00.000",
          "2025-01-29T23:00:00.000",
          "2025-01-30T00:00:00.000",
          "2025-01-30T01:00:00.000",
          "2025-01-30T02:00:00.000",
          "2025-01-30T03:00:00.000",
          "2025-01-30T04:00:00.000",
          "2025-01-30T05:00:00.000",
          "2025-01-30T06:00:00.000",
          "2025-01-30T07:00:00.000"
         ],
         "xaxis": "x",
         "y": {
          "bdata": "AEKGyg7de0ADnTbQaZx7QIZnRSMBX3tApNMGOm1qe0Bt+WjvxWR7QFtuf5ChcHtApPRJn/SOe0BJ2WHqcmp7QJhKuJNKMHtAFLZgC7ZCe0DviyW/WGN7QCkaCfjmU3tA32HqcvuIe0BGI9pHIyp8QEj+vsTyZHxAhoiIiIg7fEAOMlR2mG58QFfyiyW/GnxA4RdLfrEpfEBpJOCbV4p8QKXTBjptzXxAf7HkF0tNfEAOlR2mLpN8QDk3Nzc313xA0YpGAr7ufED5BxkqO2d9QDdtoNMGRX5ADXTaQCcPgEDm1cSzokmAQFE0EvDNSH9AjeM4juMAfUCByg5Tl6N8QHmYutz++nxAianL7Q+/fECBDJUdpvB9QMFxHMdxpX1AGI0EfPNUfUDiehSuRwl9QK0b960bB3xARqcNdNrFe0BvXk08K/V7QLYehetRwXtA10CnDXSGe0A3ryaeFW57QJWZmZmZUHtAR4bKDlNQe0AEUuQIUmR7QH2XyCrvY3tADhERERGpe0BwXk08K8t7QAZbsAVbAHxALOD0GW5kfEDb/iBDZQZ8QFeX2x9ksXtAqaqqqqq8e0BOXW5/kFd8QIHh2JNrZXxAA9+8mnh5fECyBVuwBSN8QG/7gwyV9XtArUdstUdEfEC6WPKLJSd8QBqmLrc/RHxAMroLqc8+fEAElR2mLhl8QJ+yw9TlInxAAd+8mngjfEChcwOCdjx8QGh/kKGy5ntALn3SJ320e0CyBVuwBaR7QG7aQKcNsntAy7OikYCue0D1BxkqO4x7QC8sLCwspHtA5HoUrkeee0Dkm1cTz5N7QP9BhsoOgXtAlW4lk251e0ANdNpAp3Z7QGTqcvuDYntAqUfhehRke0C6P8hQ2WB7QI5fLPnFYntA7u7u7u7Pe0DRq4lnRXl8QKvsMHW5vH1AIWSo7DAPfkCXdSyadex9QCRkqOwwpn1Aze0PMlRKfUB9seQXS1B8QFXgBE7gLHxAWtFIwDcyfEAylvxiyWB8QCwpB0SGg3xAxquJZ0WmfEC0+Yuw+VN9QCecIvnnCYBAOwrXo/BQgECLBHzz6qeAQA==",
          "dtype": "f8"
         },
         "yaxis": "y"
        },
        {
         "hovertemplate": "system_id=6<br>datetime=%{x}<br>CO2=%{y}<extra></extra>",
         "legendgroup": "6",
         "line": {
          "color": "#EF553B",
          "dash": "solid"
         },
         "marker": {
          "symbol": "circle"
         },
         "mode": "lines+markers",
         "name": "6",
         "orientation": "v",
         "showlegend": true,
         "type": "scatter",
         "x": [
          "2025-01-26T03:00:00.000",
          "2025-01-26T04:00:00.000",
          "2025-01-26T05:00:00.000",
          "2025-01-26T06:00:00.000",
          "2025-01-26T07:00:00.000",
          "2025-01-26T08:00:00.000",
          "2025-01-26T09:00:00.000",
          "2025-01-26T10:00:00.000",
          "2025-01-26T11:00:00.000",
          "2025-01-26T12:00:00.000",
          "2025-01-26T13:00:00.000",
          "2025-01-26T14:00:00.000",
          "2025-01-26T15:00:00.000",
          "2025-01-26T16:00:00.000",
          "2025-01-26T17:00:00.000",
          "2025-01-26T18:00:00.000",
          "2025-01-26T19:00:00.000",
          "2025-01-26T20:00:00.000",
          "2025-01-26T21:00:00.000",
          "2025-01-26T22:00:00.000",
          "2025-01-26T23:00:00.000",
          "2025-01-27T00:00:00.000",
          "2025-01-27T01:00:00.000",
          "2025-01-27T02:00:00.000",
          "2025-01-27T03:00:00.000",
          "2025-01-27T04:00:00.000",
          "2025-01-27T05:00:00.000",
          "2025-01-27T06:00:00.000",
          "2025-01-27T07:00:00.000",
          "2025-01-27T08:00:00.000",
          "2025-01-27T09:00:00.000",
          "2025-01-27T10:00:00.000",
          "2025-01-27T11:00:00.000",
          "2025-01-27T12:00:00.000",
          "2025-01-27T13:00:00.000",
          "2025-01-27T14:00:00.000",
          "2025-01-27T15:00:00.000",
          "2025-01-27T16:00:00.000",
          "2025-01-27T17:00:00.000",
          "2025-01-27T18:00:00.000",
          "2025-01-27T19:00:00.000",
          "2025-01-27T20:00:00.000",
          "2025-01-27T21:00:00.000",
          "2025-01-27T22:00:00.000",
          "2025-01-27T23:00:00.000",
          "2025-01-28T00:00:00.000",
          "2025-01-28T01:00:00.000",
          "2025-01-28T02:00:00.000",
          "2025-01-28T03:00:00.000",
          "2025-01-28T04:00:00.000",
          "2025-01-28T05:00:00.000",
          "2025-01-28T06:00:00.000",
          "2025-01-28T07:00:00.000",
          "2025-01-28T08:00:00.000",
          "2025-01-28T09:00:00.000",
          "2025-01-28T10:00:00.000",
          "2025-01-28T11:00:00.000",
          "2025-01-28T12:00:00.000",
          "2025-01-28T13:00:00.000",
          "2025-01-28T14:00:00.000",
          "2025-01-28T15:00:00.000",
          "2025-01-28T16:00:00.000",
          "2025-01-28T17:00:00.000",
          "2025-01-28T18:00:00.000",
          "2025-01-28T19:00:00.000",
          "2025-01-28T20:00:00.000",
          "2025-01-28T21:00:00.000",
          "2025-01-28T22:00:00.000",
          "2025-01-28T23:00:00.000",
          "2025-01-29T00:00:00.000",
          "2025-01-29T01:00:00.000",
          "2025-01-29T02:00:00.000",
          "2025-01-29T03:00:00.000",
          "2025-01-29T04:00:00.000",
          "2025-01-29T05:00:00.000",
          "2025-01-29T06:00:00.000",
          "2025-01-29T07:00:00.000",
          "2025-01-29T08:00:00.000",
          "2025-01-29T09:00:00.000",
          "2025-01-29T10:00:00.000",
          "2025-01-29T11:00:00.000",
          "2025-01-29T12:00:00.000",
          "2025-01-29T13:00:00.000",
          "2025-01-29T14:00:00.000",
          "2025-01-29T15:00:00.000",
          "2025-01-29T16:00:00.000",
          "2025-01-29T17:00:00.000",
          "2025-01-29T18:00:00.000",
          "2025-01-29T19:00:00.000",
          "2025-01-29T20:00:00.000",
          "2025-01-29T21:00:00.000",
          "2025-01-29T22:00:00.000",
          "2025-01-29T23:00:00.000",
          "2025-01-30T00:00:00.000",
          "2025-01-30T01:00:00.000",
          "2025-01-30T02:00:00.000",
          "2025-01-30T03:00:00.000",
          "2025-01-30T04:00:00.000",
          "2025-01-30T05:00:00.000",
          "2025-01-30T06:00:00.000",
          "2025-01-30T07:00:00.000"
         ],
         "xaxis": "x",
         "y": {
          "bdata": "AAAAAAAA+H8AAAAAAAD4fwAAAAAAAPh/AAAAAAAA+H8AAAAAAAD4fwAAAAAAAPh/AAAAAAAA+H8AAAAAAAD4fwAAAAAAAPh/AAAAAAAA+H8AAAAAAAD4fwAAAAAAAPh/AAAAAAAA+H8AAAAAAAD4fwAAAAAAAPh/AAAAAAAA+H8AAAAAAAD4fwAAAAAAAPh/AAAAAAAA+H8AAAAAAAD4fwAAAAAAAPh/AAAAAAAA+H8AAAAAAAD4fwAAAAAAAPh/AAAAAAAA+H8AAAAAAAD4fwAAAAAAAPh/AAAAAAAA+H8AAAAAAAD4fwAAAAAAAPh/AAAAAAAA+H8AAAAAAAD4fwAAAAAAAPh/AAAAAAAA+H8AAAAAAAD4fwAAAAAAAPh/AAAAAAAA+H8AAAAAAAD4fwAAAAAAAPh/AAAAAAAA+H8AAAAAAAD4fwAAAAAAAPh/AAAAAAAA+H8AAAAAAAD4fwAAAAAAAPh/AAAAAAAA+H8AAAAAAAD4fwAAAAAAAPh/AAAAAAAA+H8AAAAAAAD4fwAAAAAAAPh/AAAAAAAA+H8AAAAAAAD4fwAAAAAAAPh/AAAAAAAA+H8AAAAAAAD4fwAAAAAAAPh/AAAAAAAA+H8AAAAAAAD4fwAAAAAAAPh/AAAAAAAA+H8AAAAAAAD4fwAAAAAAAPh/AAAAAAAA+H8AAAAAAAD4fwAAAAAAAPh/AAAAAAAA+H8AAAAAAAD4fwAAAAAAAPh/AAAAAAAA+H8AAAAAAAD4fwAAAAAAAPh/AAAAAAAA+H8AAAAAAAD4fwAAAAAAAPh/AAAAAAAA+H8AAAAAAAD4fwAAAAAAAPh/W7IlW7KRekBKUW6De2Z7QFFVVVVVVXtAFavPGKtfe0Bb8oslv1h7QMbtDzJUXXtAzQ5Tl9u7e0DvauJZ0WR8QJBnRSMBpH1ApU/6pE8DfkAQfN74Zd99QMQ3ryaeiH1AK6K3gkk1fUCS/tmQ/kF8QPDu7u7uIXxAfy3Ygi0ifECJjY2NjU18QJAlv1jycnxAHyIiIiKWfEAAhAyVHUV9QKUNdNpA+H9A0+X2B5lFgEAZQIkbQJWAQA==",
          "dtype": "f8"
         },
         "yaxis": "y"
        },
        {
         "hovertemplate": "system_id=529<br>datetime=%{x}<br>CO2=%{y}<extra></extra>",
         "legendgroup": "529",
         "line": {
          "color": "#00cc96",
          "dash": "solid"
         },
         "marker": {
          "symbol": "circle"
         },
         "mode": "lines+markers",
         "name": "529",
         "orientation": "v",
         "showlegend": true,
         "type": "scatter",
         "x": [
          "2025-01-26T03:00:00.000",
          "2025-01-26T04:00:00.000",
          "2025-01-26T05:00:00.000",
          "2025-01-26T06:00:00.000",
          "2025-01-26T07:00:00.000",
          "2025-01-26T08:00:00.000",
          "2025-01-26T09:00:00.000",
          "2025-01-26T10:00:00.000",
          "2025-01-26T11:00:00.000",
          "2025-01-26T12:00:00.000",
          "2025-01-26T13:00:00.000",
          "2025-01-26T14:00:00.000",
          "2025-01-26T15:00:00.000",
          "2025-01-26T16:00:00.000",
          "2025-01-26T17:00:00.000",
          "2025-01-26T18:00:00.000",
          "2025-01-26T19:00:00.000",
          "2025-01-26T20:00:00.000",
          "2025-01-26T21:00:00.000",
          "2025-01-26T22:00:00.000",
          "2025-01-26T23:00:00.000",
          "2025-01-27T00:00:00.000",
          "2025-01-27T01:00:00.000",
          "2025-01-27T02:00:00.000",
          "2025-01-27T03:00:00.000",
          "2025-01-27T04:00:00.000",
          "2025-01-27T05:00:00.000",
          "2025-01-27T06:00:00.000",
          "2025-01-27T07:00:00.000",
          "2025-01-27T08:00:00.000",
          "2025-01-27T09:00:00.000",
          "2025-01-27T10:00:00.000",
          "2025-01-27T11:00:00.000",
          "2025-01-27T12:00:00.000",
          "2025-01-27T13:00:00.000",
          "2025-01-27T14:00:00.000",
          "2025-01-27T15:00:00.000",
          "2025-01-27T16:00:00.000",
          "2025-01-27T17:00:00.000",
          "2025-01-27T18:00:00.000",
          "2025-01-27T19:00:00.000",
          "2025-01-27T20:00:00.000",
          "2025-01-27T21:00:00.000",
          "2025-01-27T22:00:00.000",
          "2025-01-27T23:00:00.000",
          "2025-01-28T00:00:00.000",
          "2025-01-28T01:00:00.000",
          "2025-01-28T02:00:00.000",
          "2025-01-28T03:00:00.000",
          "2025-01-28T04:00:00.000",
          "2025-01-28T05:00:00.000",
          "2025-01-28T06:00:00.000",
          "2025-01-28T07:00:00.000",
          "2025-01-28T08:00:00.000",
          "2025-01-28T09:00:00.000",
          "2025-01-28T10:00:00.000",
          "2025-01-28T11:00:00.000",
          "2025-01-28T12:00:00.000",
          "2025-01-28T13:00:00.000",
          "2025-01-28T14:00:00.000",
          "2025-01-28T15:00:00.000",
          "2025-01-28T16:00:00.000",
          "2025-01-28T17:00:00.000",
          "2025-01-28T18:00:00.000",
          "2025-01-28T19:00:00.000",
          "2025-01-28T20:00:00.000",
          "2025-01-28T21:00:00.000",
          "2025-01-28T22:00:00.000",
          "2025-01-28T23:00:00.000",
          "2025-01-29T00:00:00.000",
          "2025-01-29T01:00:00.000",
          "2025-01-29T02:00:00.000",
          "2025-01-29T03:00:00.000",
          "2025-01-29T04:00:00.000",
          "2025-01-29T05:00:00.000",
          "2025-01-29T06:00:00.000",
          "2025-01-29T07:00:00.000",
          "2025-01-29T08:00:00.000",
          "2025-01-29T09:00:00.000",
          "2025-01-29T10:00:00.000",
          "2025-01-29T11:00:00.000",
          "2025-01-29T12:00:00.000",
          "2025-01-29T13:00:00.000",
          "2025-01-29T14:00:00.000",
          "2025-01-29T15:00:00.000",
          "2025-01-29T16:00:00.000",
          "2025-01-29T17:00:00.000",
          "2025-01-29T18:00:00.000",
          "2025-01-29T19:00:00.000",
          "2025-01-29T20:00:00.000",
          "2025-01-29T21:00:00.000",
          "2025-01-29T22:00:00.000",
          "2025-01-29T23:00:00.000",
          "2025-01-30T00:00:00.000",
          "2025-01-30T01:00:00.000",
          "2025-01-30T02:00:00.000",
          "2025-01-30T03:00:00.000",
          "2025-01-30T04:00:00.000",
          "2025-01-30T05:00:00.000",
          "2025-01-30T06:00:00.000",
          "2025-01-30T07:00:00.000",
          "2025-01-30T08:00:00.000"
         ],
         "xaxis": "x",
         "y": {
          "bdata": "1pKPa7jVe0Au1+7LXpN7QKwa5ujxUntAjIuKZrNje0BYRohVFV97QNibYD68Z3tAr//k4bmHe0AZm+JTc1t7QPoZQ63DL3tAyJHtPm03e0DbZ5v4Mlp7QMILkz7UTntAUeaeksV/e0ARaTmhFiV8QEcTmCx8XXxAhL9z87cvfEBY2TpX5mR8QMcCq/pZCnxA4T/7b/MefECgHqqohHt8QJi/7OcuwnxA28II8aw+fEBwKlziW4N8QN0rI5dQ03xAhDmkWDTkfEAEQrxA/FV9QPgQfgVdOn5AbfIqa+MHgEB81tSlKkOAQBs3caZoRH9ADw+8xTrzfEBzxjZyqZh8QPGpSm9V7nxAhtUFz/2tfEDLI80lDdl9QH9hjTqph31AlRmLYDQ3fUD82++AOel8QIv5H9Ck8ntAU7fkQASxe0BazyuUZ+N7QJa4Vip/sXtAkq40WWl6e0DgiSF4gFl7QKX/2OGxPntAj87JjOc8e0C0svXqw1R7QCBSRtMwVntAZLHjrtuVe0AwPETX87x7QHniOHD87HtA6lH04K1SfEAMGf6LlvV7QCuvQp1+oHtA+XZBOh2ue0Dj86bm6ER8QCrCW5/3WHxA344h0vdpfEBgkFWitA58QKiHkMDi53tAG1TssXo4fEBXOLGq5hd8QLibuzHmNnxAsFEbdjc4fECs3raUzA18QLTur0QOGHxA631MgPYWfECAXa8afjV8QBlpKZCn23tA4UWgcxWte0Cq53GR7Zh7QHcht5mdpXtAFBVmB/uke0DQMm5McYJ7QCTB6kx2oHtAu8o+KpOTe0AvzwBZgIp7QOqkp6ludntAdO9YG85we0AxyDhiGG97QNJGn/FUW3tALOHJutNee0BkM8+Fvlt7QMVRlyf4W3tAHjgGToC7e0CKAW5GLGh8QCHRVvVssn1AsRFQYlMJfkBRxWPDeu19QGgtWNqQoH1Al7w86EpEfUBRJzG6q0l8QG/vxMrlLHxAnMD3PyEtfEBeuWIQ71p8QOGfEDEZe3xAzwoy2DmefED1VwaLWEl9QHsu2P+QCIBAWesYPv9OgEDch2aWiKSAQPdbu0iIkYFA",
          "dtype": "f8"
         },
         "yaxis": "y"
        }
       ],
       "layout": {
        "legend": {
         "title": {
          "text": "system_id"
         },
         "tracegroupgap": 0
        },
        "margin": {
         "t": 60
        },
        "template": {
         "data": {
          "bar": [
           {
            "error_x": {
             "color": "#2a3f5f"
            },
            "error_y": {
             "color": "#2a3f5f"
            },
            "marker": {
             "line": {
              "color": "#E5ECF6",
              "width": 0.5
             },
             "pattern": {
              "fillmode": "overlay",
              "size": 10,
              "solidity": 0.2
             }
            },
            "type": "bar"
           }
          ],
          "barpolar": [
           {
            "marker": {
             "line": {
              "color": "#E5ECF6",
              "width": 0.5
             },
             "pattern": {
              "fillmode": "overlay",
              "size": 10,
              "solidity": 0.2
             }
            },
            "type": "barpolar"
           }
          ],
          "carpet": [
           {
            "aaxis": {
             "endlinecolor": "#2a3f5f",
             "gridcolor": "white",
             "linecolor": "white",
             "minorgridcolor": "white",
             "startlinecolor": "#2a3f5f"
            },
            "baxis": {
             "endlinecolor": "#2a3f5f",
             "gridcolor": "white",
             "linecolor": "white",
             "minorgridcolor": "white",
             "startlinecolor": "#2a3f5f"
            },
            "type": "carpet"
           }
          ],
          "choropleth": [
           {
            "colorbar": {
             "outlinewidth": 0,
             "ticks": ""
            },
            "type": "choropleth"
           }
          ],
          "contour": [
           {
            "colorbar": {
             "outlinewidth": 0,
             "ticks": ""
            },
            "colorscale": [
             [
              0,
              "#0d0887"
             ],
             [
              0.1111111111111111,
              "#46039f"
             ],
             [
              0.2222222222222222,
              "#7201a8"
             ],
             [
              0.3333333333333333,
              "#9c179e"
             ],
             [
              0.4444444444444444,
              "#bd3786"
             ],
             [
              0.5555555555555556,
              "#d8576b"
             ],
             [
              0.6666666666666666,
              "#ed7953"
             ],
             [
              0.7777777777777778,
              "#fb9f3a"
             ],
             [
              0.8888888888888888,
              "#fdca26"
             ],
             [
              1,
              "#f0f921"
             ]
            ],
            "type": "contour"
           }
          ],
          "contourcarpet": [
           {
            "colorbar": {
             "outlinewidth": 0,
             "ticks": ""
            },
            "type": "contourcarpet"
           }
          ],
          "heatmap": [
           {
            "colorbar": {
             "outlinewidth": 0,
             "ticks": ""
            },
            "colorscale": [
             [
              0,
              "#0d0887"
             ],
             [
              0.1111111111111111,
              "#46039f"
             ],
             [
              0.2222222222222222,
              "#7201a8"
             ],
             [
              0.3333333333333333,
              "#9c179e"
             ],
             [
              0.4444444444444444,
              "#bd3786"
             ],
             [
              0.5555555555555556,
              "#d8576b"
             ],
             [
              0.6666666666666666,
              "#ed7953"
             ],
             [
              0.7777777777777778,
              "#fb9f3a"
             ],
             [
              0.8888888888888888,
              "#fdca26"
             ],
             [
              1,
              "#f0f921"
             ]
            ],
            "type": "heatmap"
           }
          ],
          "histogram": [
           {
            "marker": {
             "pattern": {
              "fillmode": "overlay",
              "size": 10,
              "solidity": 0.2
             }
            },
            "type": "histogram"
           }
          ],
          "histogram2d": [
           {
            "colorbar": {
             "outlinewidth": 0,
             "ticks": ""
            },
            "colorscale": [
             [
              0,
              "#0d0887"
             ],
             [
              0.1111111111111111,
              "#46039f"
             ],
             [
              0.2222222222222222,
              "#7201a8"
             ],
             [
              0.3333333333333333,
              "#9c179e"
             ],
             [
              0.4444444444444444,
              "#bd3786"
             ],
             [
              0.5555555555555556,
              "#d8576b"
             ],
             [
              0.6666666666666666,
              "#ed7953"
             ],
             [
              0.7777777777777778,
              "#fb9f3a"
             ],
             [
              0.8888888888888888,
              "#fdca26"
             ],
             [
              1,
              "#f0f921"
             ]
            ],
            "type": "histogram2d"
           }
          ],
          "histogram2dcontour": [
           {
            "colorbar": {
             "outlinewidth": 0,
             "ticks": ""
            },
            "colorscale": [
             [
              0,
              "#0d0887"
             ],
             [
              0.1111111111111111,
              "#46039f"
             ],
             [
              0.2222222222222222,
              "#7201a8"
             ],
             [
              0.3333333333333333,
              "#9c179e"
             ],
             [
              0.4444444444444444,
              "#bd3786"
             ],
             [
              0.5555555555555556,
              "#d8576b"
             ],
             [
              0.6666666666666666,
              "#ed7953"
             ],
             [
              0.7777777777777778,
              "#fb9f3a"
             ],
             [
              0.8888888888888888,
              "#fdca26"
             ],
             [
              1,
              "#f0f921"
             ]
            ],
            "type": "histogram2dcontour"
           }
          ],
          "mesh3d": [
           {
            "colorbar": {
             "outlinewidth": 0,
             "ticks": ""
            },
            "type": "mesh3d"
           }
          ],
          "parcoords": [
           {
            "line": {
             "colorbar": {
              "outlinewidth": 0,
              "ticks": ""
             }
            },
            "type": "parcoords"
           }
          ],
          "pie": [
           {
            "automargin": true,
            "type": "pie"
           }
          ],
          "scatter": [
           {
            "fillpattern": {
             "fillmode": "overlay",
             "size": 10,
             "solidity": 0.2
            },
            "type": "scatter"
           }
          ],
          "scatter3d": [
           {
            "line": {
             "colorbar": {
              "outlinewidth": 0,
              "ticks": ""
             }
            },
            "marker": {
             "colorbar": {
              "outlinewidth": 0,
              "ticks": ""
             }
            },
            "type": "scatter3d"
           }
          ],
          "scattercarpet": [
           {
            "marker": {
             "colorbar": {
              "outlinewidth": 0,
              "ticks": ""
             }
            },
            "type": "scattercarpet"
           }
          ],
          "scattergeo": [
           {
            "marker": {
             "colorbar": {
              "outlinewidth": 0,
              "ticks": ""
             }
            },
            "type": "scattergeo"
           }
          ],
          "scattergl": [
           {
            "marker": {
             "colorbar": {
              "outlinewidth": 0,
              "ticks": ""
             }
            },
            "type": "scattergl"
           }
          ],
          "scattermap": [
           {
            "marker": {
             "colorbar": {
              "outlinewidth": 0,
              "ticks": ""
             }
            },
            "type": "scattermap"
           }
          ],
          "scattermapbox": [
           {
            "marker": {
             "colorbar": {
              "outlinewidth": 0,
              "ticks": ""
             }
            },
            "type": "scattermapbox"
           }
          ],
          "scatterpolar": [
           {
            "marker": {
             "colorbar": {
              "outlinewidth": 0,
              "ticks": ""
             }
            },
            "type": "scatterpolar"
           }
          ],
          "scatterpolargl": [
           {
            "marker": {
             "colorbar": {
              "outlinewidth": 0,
              "ticks": ""
             }
            },
            "type": "scatterpolargl"
           }
          ],
          "scatterternary": [
           {
            "marker": {
             "colorbar": {
              "outlinewidth": 0,
              "ticks": ""
             }
            },
            "type": "scatterternary"
           }
          ],
          "surface": [
           {
            "colorbar": {
             "outlinewidth": 0,
             "ticks": ""
            },
            "colorscale": [
             [
              0,
              "#0d0887"
             ],
             [
              0.1111111111111111,
              "#46039f"
             ],
             [
              0.2222222222222222,
              "#7201a8"
             ],
             [
              0.3333333333333333,
              "#9c179e"
             ],
             [
              0.4444444444444444,
              "#bd3786"
             ],
             [
              0.5555555555555556,
              "#d8576b"
             ],
             [
              0.6666666666666666,
              "#ed7953"
             ],
             [
              0.7777777777777778,
              "#fb9f3a"
             ],
             [
              0.8888888888888888,
              "#fdca26"
             ],
             [
              1,
              "#f0f921"
             ]
            ],
            "type": "surface"
           }
          ],
          "table": [
           {
            "cells": {
             "fill": {
              "color": "#EBF0F8"
             },
             "line": {
              "color": "white"
             }
            },
            "header": {
             "fill": {
              "color": "#C8D4E3"
             },
             "line": {
              "color": "white"
             }
            },
            "type": "table"
           }
          ]
         },
         "layout": {
          "annotationdefaults": {
           "arrowcolor": "#2a3f5f",
           "arrowhead": 0,
           "arrowwidth": 1
          },
          "autotypenumbers": "strict",
          "coloraxis": {
           "colorbar": {
            "outlinewidth": 0,
            "ticks": ""
           }
          },
          "colorscale": {
           "diverging": [
            [
             0,
             "#8e0152"
            ],
            [
             0.1,
             "#c51b7d"
            ],
            [
             0.2,
             "#de77ae"
            ],
            [
             0.3,
             "#f1b6da"
            ],
            [
             0.4,
             "#fde0ef"
            ],
            [
             0.5,
             "#f7f7f7"
            ],
            [
             0.6,
             "#e6f5d0"
            ],
            [
             0.7,
             "#b8e186"
            ],
            [
             0.8,
             "#7fbc41"
            ],
            [
             0.9,
             "#4d9221"
            ],
            [
             1,
             "#276419"
            ]
           ],
           "sequential": [
            [
             0,
             "#0d0887"
            ],
            [
             0.1111111111111111,
             "#46039f"
            ],
            [
             0.2222222222222222,
             "#7201a8"
            ],
            [
             0.3333333333333333,
             "#9c179e"
            ],
            [
             0.4444444444444444,
             "#bd3786"
            ],
            [
             0.5555555555555556,
             "#d8576b"
            ],
            [
             0.6666666666666666,
             "#ed7953"
            ],
            [
             0.7777777777777778,
             "#fb9f3a"
            ],
            [
             0.8888888888888888,
             "#fdca26"
            ],
            [
             1,
             "#f0f921"
            ]
           ],
           "sequentialminus": [
            [
             0,
             "#0d0887"
            ],
            [
             0.1111111111111111,
             "#46039f"
            ],
            [
             0.2222222222222222,
             "#7201a8"
            ],
            [
             0.3333333333333333,
             "#9c179e"
            ],
            [
             0.4444444444444444,
             "#bd3786"
            ],
            [
             0.5555555555555556,
             "#d8576b"
            ],
            [
             0.6666666666666666,
             "#ed7953"
            ],
            [
             0.7777777777777778,
             "#fb9f3a"
            ],
            [
             0.8888888888888888,
             "#fdca26"
            ],
            [
             1,
             "#f0f921"
            ]
           ]
          },
          "colorway": [
           "#636efa",
           "#EF553B",
           "#00cc96",
           "#ab63fa",
           "#FFA15A",
           "#19d3f3",
           "#FF6692",
           "#B6E880",
           "#FF97FF",
           "#FECB52"
          ],
          "font": {
           "color": "#2a3f5f"
          },
          "geo": {
           "bgcolor": "white",
           "lakecolor": "white",
           "landcolor": "#E5ECF6",
           "showlakes": true,
           "showland": true,
           "subunitcolor": "white"
          },
          "hoverlabel": {
           "align": "left"
          },
          "hovermode": "closest",
          "mapbox": {
           "style": "light"
          },
          "paper_bgcolor": "white",
          "plot_bgcolor": "#E5ECF6",
          "polar": {
           "angularaxis": {
            "gridcolor": "white",
            "linecolor": "white",
            "ticks": ""
           },
           "bgcolor": "#E5ECF6",
           "radialaxis": {
            "gridcolor": "white",
            "linecolor": "white",
            "ticks": ""
           }
          },
          "scene": {
           "xaxis": {
            "backgroundcolor": "#E5ECF6",
            "gridcolor": "white",
            "gridwidth": 2,
            "linecolor": "white",
            "showbackground": true,
            "ticks": "",
            "zerolinecolor": "white"
           },
           "yaxis": {
            "backgroundcolor": "#E5ECF6",
            "gridcolor": "white",
            "gridwidth": 2,
            "linecolor": "white",
            "showbackground": true,
            "ticks": "",
            "zerolinecolor": "white"
           },
           "zaxis": {
            "backgroundcolor": "#E5ECF6",
            "gridcolor": "white",
            "gridwidth": 2,
            "linecolor": "white",
            "showbackground": true,
            "ticks": "",
            "zerolinecolor": "white"
           }
          },
          "shapedefaults": {
           "line": {
            "color": "#2a3f5f"
           }
          },
          "ternary": {
           "aaxis": {
            "gridcolor": "white",
            "linecolor": "white",
            "ticks": ""
           },
           "baxis": {
            "gridcolor": "white",
            "linecolor": "white",
            "ticks": ""
           },
           "bgcolor": "#E5ECF6",
           "caxis": {
            "gridcolor": "white",
            "linecolor": "white",
            "ticks": ""
           }
          },
          "title": {
           "x": 0.05
          },
          "xaxis": {
           "automargin": true,
           "gridcolor": "white",
           "linecolor": "white",
           "ticks": "",
           "title": {
            "standoff": 15
           },
           "zerolinecolor": "white",
           "zerolinewidth": 2
          },
          "yaxis": {
           "automargin": true,
           "gridcolor": "white",
           "linecolor": "white",
           "ticks": "",
           "title": {
            "standoff": 15
           },
           "zerolinecolor": "white",
           "zerolinewidth": 2
          }
         }
        },
        "xaxis": {
         "anchor": "y",
         "domain": [
          0,
          1
         ],
         "title": {
          "text": "datetime"
         }
        },
        "yaxis": {
         "anchor": "x",
         "domain": [
          0,
          1
         ],
         "title": {
          "text": "CO2"
         }
        }
       }
      }
     },
     "metadata": {},
     "output_type": "display_data"
    }
   ],
   "source": [
    "column_name = \"CO2\"\n",
    "\n",
    "df_plot = df.rename({\"gmp343_edge_corrected\": column_name}) \\\n",
    "    .select([\"datetime\", \"system_id\", column_name]) \\\n",
    "    .group_by_dynamic(\"datetime\", every=filter, group_by=\"system_id\") \\\n",
    "    .agg(pl.col(column_name).mean())\n",
    "\n",
    "df_plot = pl.concat([df_plot, df_p_icos], how=\"diagonal\")\n",
    "\n",
    "fig = px.line(\n",
    "    df_plot,\n",
    "    x=\"datetime\",\n",
    "    y=column_name,\n",
    "    markers=True,\n",
    "    color=\"system_id\"\n",
    ")\n",
    "fig.show()"
   ]
  },
  {
   "cell_type": "code",
   "execution_count": 6,
   "metadata": {},
   "outputs": [
    {
     "data": {
      "text/html": [
       "<div><style>\n",
       ".dataframe > thead > tr,\n",
       ".dataframe > tbody > tr {\n",
       "  text-align: right;\n",
       "  white-space: pre-wrap;\n",
       "}\n",
       "</style>\n",
       "<small>shape: (1, 4)</small><table border=\"1\" class=\"dataframe\"><thead><tr><th>mean_full_deployment</th><th>mae_full_deployment</th><th>mse_full_deployment</th><th>rmse_full_deployment</th></tr><tr><td>f64</td><td>f64</td><td>f64</td><td>f64</td></tr></thead><tbody><tr><td>0.733505</td><td>0.734794</td><td>0.683832</td><td>0.826941</td></tr></tbody></table></div>"
      ],
      "text/plain": [
       "shape: (1, 4)\n",
       "┌──────────────────────┬─────────────────────┬─────────────────────┬──────────────────────┐\n",
       "│ mean_full_deployment ┆ mae_full_deployment ┆ mse_full_deployment ┆ rmse_full_deployment │\n",
       "│ ---                  ┆ ---                 ┆ ---                 ┆ ---                  │\n",
       "│ f64                  ┆ f64                 ┆ f64                 ┆ f64                  │\n",
       "╞══════════════════════╪═════════════════════╪═════════════════════╪══════════════════════╡\n",
       "│ 0.733505             ┆ 0.734794            ┆ 0.683832            ┆ 0.826941             │\n",
       "└──────────────────────┴─────────────────────┴─────────────────────┴──────────────────────┘"
      ]
     },
     "execution_count": 6,
     "metadata": {},
     "output_type": "execute_result"
    }
   ],
   "source": [
    "column_name = \"gmp343_edge_corrected\"\n",
    "\n",
    "# join with picarro\n",
    "df_plot = df.select([\"datetime\", \"system_id\", column_name]) \\\n",
    "    .group_by_dynamic(\"datetime\", every=filter, group_by=\"system_id\") \\\n",
    "    .agg(pl.col(column_name).mean())\n",
    "\n",
    "df_plot = df_plot.join(df_p_icos, on=\"datetime\", how=\"inner\") \\\n",
    "    .with_columns(diff = pl.col(column_name) - pl.col(\"CO2\"))\n",
    "    \n",
    "# rmse\n",
    "df_plot.filter(pl.col(\"system_id\") == 3) \\\n",
    "    .with_columns([\n",
    "        (pl.col(\"diff\")).mean().alias(\"mean_full_deployment\"),\n",
    "        (np.abs(pl.col(\"diff\"))).mean().alias(\"mae_full_deployment\"),\n",
    "        (np.square(pl.col(\"diff\")).mean()).alias(\"mse_full_deployment\"),\n",
    "                ]) \\\n",
    "    .with_columns(pl.col(\"mse_full_deployment\").sqrt().alias(\"rmse_full_deployment\")) \\\n",
    "    .select(\"mean_full_deployment\", \"mae_full_deployment\", \"mse_full_deployment\", \"rmse_full_deployment\") \\\n",
    "    .head(1)"
   ]
  },
  {
   "cell_type": "code",
   "execution_count": 7,
   "metadata": {},
   "outputs": [
    {
     "data": {
      "application/vnd.plotly.v1+json": {
       "config": {
        "plotlyServerURL": "https://plot.ly"
       },
       "data": [
        {
         "hovertemplate": "system_id=3<br>datetime=%{x}<br>diff=%{y}<extra></extra>",
         "legendgroup": "3",
         "line": {
          "color": "#636efa",
          "dash": "solid"
         },
         "marker": {
          "symbol": "circle"
         },
         "mode": "lines+markers",
         "name": "3",
         "orientation": "v",
         "showlegend": true,
         "type": "scatter",
         "x": [
          "2025-01-26T03:00:00.000",
          "2025-01-26T04:00:00.000",
          "2025-01-26T05:00:00.000",
          "2025-01-26T06:00:00.000",
          "2025-01-26T07:00:00.000",
          "2025-01-26T08:00:00.000",
          "2025-01-26T09:00:00.000",
          "2025-01-26T10:00:00.000",
          "2025-01-26T11:00:00.000",
          "2025-01-26T12:00:00.000",
          "2025-01-26T13:00:00.000",
          "2025-01-26T14:00:00.000",
          "2025-01-26T15:00:00.000",
          "2025-01-26T16:00:00.000",
          "2025-01-26T17:00:00.000",
          "2025-01-26T18:00:00.000",
          "2025-01-26T19:00:00.000",
          "2025-01-26T20:00:00.000",
          "2025-01-26T21:00:00.000",
          "2025-01-26T22:00:00.000",
          "2025-01-26T23:00:00.000",
          "2025-01-27T00:00:00.000",
          "2025-01-27T01:00:00.000",
          "2025-01-27T02:00:00.000",
          "2025-01-27T03:00:00.000",
          "2025-01-27T04:00:00.000",
          "2025-01-27T05:00:00.000",
          "2025-01-27T06:00:00.000",
          "2025-01-27T07:00:00.000",
          "2025-01-27T08:00:00.000",
          "2025-01-27T09:00:00.000",
          "2025-01-27T10:00:00.000",
          "2025-01-27T11:00:00.000",
          "2025-01-27T12:00:00.000",
          "2025-01-27T13:00:00.000",
          "2025-01-27T14:00:00.000",
          "2025-01-27T15:00:00.000",
          "2025-01-27T16:00:00.000",
          "2025-01-27T17:00:00.000",
          "2025-01-27T18:00:00.000",
          "2025-01-27T19:00:00.000",
          "2025-01-27T20:00:00.000",
          "2025-01-27T21:00:00.000",
          "2025-01-27T22:00:00.000",
          "2025-01-27T23:00:00.000",
          "2025-01-28T00:00:00.000",
          "2025-01-28T01:00:00.000",
          "2025-01-28T02:00:00.000",
          "2025-01-28T03:00:00.000",
          "2025-01-28T04:00:00.000",
          "2025-01-28T05:00:00.000",
          "2025-01-28T06:00:00.000",
          "2025-01-28T07:00:00.000",
          "2025-01-28T08:00:00.000",
          "2025-01-28T09:00:00.000",
          "2025-01-28T10:00:00.000",
          "2025-01-28T11:00:00.000",
          "2025-01-28T12:00:00.000",
          "2025-01-28T13:00:00.000",
          "2025-01-28T14:00:00.000",
          "2025-01-28T15:00:00.000",
          "2025-01-28T16:00:00.000",
          "2025-01-28T17:00:00.000",
          "2025-01-28T18:00:00.000",
          "2025-01-28T19:00:00.000",
          "2025-01-28T20:00:00.000",
          "2025-01-28T21:00:00.000",
          "2025-01-28T22:00:00.000",
          "2025-01-28T23:00:00.000",
          "2025-01-29T00:00:00.000",
          "2025-01-29T01:00:00.000",
          "2025-01-29T02:00:00.000",
          "2025-01-29T03:00:00.000",
          "2025-01-29T04:00:00.000",
          "2025-01-29T05:00:00.000",
          "2025-01-29T06:00:00.000",
          "2025-01-29T07:00:00.000",
          "2025-01-29T08:00:00.000",
          "2025-01-29T09:00:00.000",
          "2025-01-29T10:00:00.000",
          "2025-01-29T11:00:00.000",
          "2025-01-29T12:00:00.000",
          "2025-01-29T13:00:00.000",
          "2025-01-29T14:00:00.000",
          "2025-01-29T15:00:00.000",
          "2025-01-29T16:00:00.000",
          "2025-01-29T17:00:00.000",
          "2025-01-29T18:00:00.000",
          "2025-01-29T19:00:00.000",
          "2025-01-29T20:00:00.000",
          "2025-01-29T21:00:00.000",
          "2025-01-29T22:00:00.000",
          "2025-01-29T23:00:00.000",
          "2025-01-30T00:00:00.000",
          "2025-01-30T01:00:00.000",
          "2025-01-30T02:00:00.000",
          "2025-01-30T03:00:00.000",
          "2025-01-30T04:00:00.000",
          "2025-01-30T05:00:00.000",
          "2025-01-30T06:00:00.000",
          "2025-01-30T07:00:00.000"
         ],
         "xaxis": "x",
         "y": {
          "bdata": "AKi82ntZ3T8AqouPCBbiPwC0mb50Hug/AGAg8U3n2j8AVMyCZ8LWPwAGpT2kyuE/ANTTk/Xq3D8AYHz+LP/tPwDAE6bO3KA/AJhI5piR5j8AKEgUjUviPwCcOdjlStQ/ABz3lsBr4j8A1OiCmjLUPwAErJtg2t0/AASSKSqh5z8AbLEyPmTjPwCQ7+AqZfA/AACwnxx85T8Akgts5qXtPwAaKDSkfOY/AEjdt0087T8APNWCh6XvPwDgWqAANc8/AJqiRFMT5T8A9cVc6T7xPwB+uEScU+U/AIAGvlYP7T8AqP2/N+DpPwDY9IMmldE/APyo+ZBR6z8AHAiwwdvlPwAQ3d/aUuk/AAPUxR4S8T8AtujH95j3PwBCEI+MyP0/AINzeRu//T8Ac0+SFgcAQAAiItfddvQ/APPvKDPW9D8AFY8hqMPxPwBAzFyCpe8/AIok5WgV6D8AVyUFJpX0PwDwmcC35/E/ALi3AIJr8z8AoD7dOxzvPwC6igSvfOs/AKpfLWI18z8AgEQSym7sPwCNeHeVXvM/AEKOADnA8T8Az+Uit87wPwAs6JiC5fA/AGBn0uAa7T8Aa2nHmKfyPwCuPvro5+g/AEigNpEB7z8AUnUFDlH0PwCO5+aXZOs/ACTn/waa5z8AxkCCwn3uPwDEFOYKs+o/AAiiwctg2j8AsGzNIsTmPwDWhycgr+U/ACzC4DQE6T8AhFhQneHbPwCeLM4iFuY/ADTdyNCe3T8AEDzSPTDmPwDucRMb4Og/AG49eRQL4z8ASqpVu5PjPwBYWAv6rs0/AFJgqwdp5T8AapmtdJ3iPwAqOr1BQOU/AIT8Md+B0j8AcK+GejvePwBIjk4nvNw/APSZXQAD1T8AWDHkK2vUPwAkN1RGN9s/ANC26KBu9D8AR6obIRnxPwAUN7T/mOQ/AMBJYSl21z8AoPt0k1KwvwDw2kBJgNY/ANjETCcl2D8AsCjOdn3aPwAAaDwA81W/APhCRAFa1D8AUHNnSmnXPwCWEu0l2uA/AO5Brx4X4D8AfkMLS0LlPwDA2qaUb8U/ACDu4VsWzz8AeOWr6BLbPw==",
          "dtype": "f8"
         },
         "yaxis": "y"
        },
        {
         "hovertemplate": "system_id=6<br>datetime=%{x}<br>diff=%{y}<extra></extra>",
         "legendgroup": "6",
         "line": {
          "color": "#EF553B",
          "dash": "solid"
         },
         "marker": {
          "symbol": "circle"
         },
         "mode": "lines+markers",
         "name": "6",
         "orientation": "v",
         "showlegend": true,
         "type": "scatter",
         "x": [
          "2025-01-26T03:00:00.000",
          "2025-01-26T04:00:00.000",
          "2025-01-26T05:00:00.000",
          "2025-01-26T06:00:00.000",
          "2025-01-26T07:00:00.000",
          "2025-01-26T08:00:00.000",
          "2025-01-26T09:00:00.000",
          "2025-01-26T10:00:00.000",
          "2025-01-26T11:00:00.000",
          "2025-01-26T12:00:00.000",
          "2025-01-26T13:00:00.000",
          "2025-01-26T14:00:00.000",
          "2025-01-26T15:00:00.000",
          "2025-01-26T16:00:00.000",
          "2025-01-26T17:00:00.000",
          "2025-01-26T18:00:00.000",
          "2025-01-26T19:00:00.000",
          "2025-01-26T20:00:00.000",
          "2025-01-26T21:00:00.000",
          "2025-01-26T22:00:00.000",
          "2025-01-26T23:00:00.000",
          "2025-01-27T00:00:00.000",
          "2025-01-27T01:00:00.000",
          "2025-01-27T02:00:00.000",
          "2025-01-27T03:00:00.000",
          "2025-01-27T04:00:00.000",
          "2025-01-27T05:00:00.000",
          "2025-01-27T06:00:00.000",
          "2025-01-27T07:00:00.000",
          "2025-01-27T08:00:00.000",
          "2025-01-27T09:00:00.000",
          "2025-01-27T10:00:00.000",
          "2025-01-27T11:00:00.000",
          "2025-01-27T12:00:00.000",
          "2025-01-27T13:00:00.000",
          "2025-01-27T14:00:00.000",
          "2025-01-27T15:00:00.000",
          "2025-01-27T16:00:00.000",
          "2025-01-27T17:00:00.000",
          "2025-01-27T18:00:00.000",
          "2025-01-27T19:00:00.000",
          "2025-01-27T20:00:00.000",
          "2025-01-27T21:00:00.000",
          "2025-01-27T22:00:00.000",
          "2025-01-27T23:00:00.000",
          "2025-01-28T00:00:00.000",
          "2025-01-28T01:00:00.000",
          "2025-01-28T02:00:00.000",
          "2025-01-28T03:00:00.000",
          "2025-01-28T04:00:00.000",
          "2025-01-28T05:00:00.000",
          "2025-01-28T06:00:00.000",
          "2025-01-28T07:00:00.000",
          "2025-01-28T08:00:00.000",
          "2025-01-28T09:00:00.000",
          "2025-01-28T10:00:00.000",
          "2025-01-28T11:00:00.000",
          "2025-01-28T12:00:00.000",
          "2025-01-28T13:00:00.000",
          "2025-01-28T14:00:00.000",
          "2025-01-28T15:00:00.000",
          "2025-01-28T16:00:00.000",
          "2025-01-28T17:00:00.000",
          "2025-01-28T18:00:00.000",
          "2025-01-28T19:00:00.000",
          "2025-01-28T20:00:00.000",
          "2025-01-28T21:00:00.000",
          "2025-01-28T22:00:00.000",
          "2025-01-28T23:00:00.000",
          "2025-01-29T00:00:00.000",
          "2025-01-29T01:00:00.000",
          "2025-01-29T02:00:00.000",
          "2025-01-29T03:00:00.000",
          "2025-01-29T04:00:00.000",
          "2025-01-29T05:00:00.000",
          "2025-01-29T06:00:00.000",
          "2025-01-29T07:00:00.000",
          "2025-01-29T08:00:00.000",
          "2025-01-29T09:00:00.000",
          "2025-01-29T10:00:00.000",
          "2025-01-29T11:00:00.000",
          "2025-01-29T12:00:00.000",
          "2025-01-29T13:00:00.000",
          "2025-01-29T14:00:00.000",
          "2025-01-29T15:00:00.000",
          "2025-01-29T16:00:00.000",
          "2025-01-29T17:00:00.000",
          "2025-01-29T18:00:00.000",
          "2025-01-29T19:00:00.000",
          "2025-01-29T20:00:00.000",
          "2025-01-29T21:00:00.000",
          "2025-01-29T22:00:00.000",
          "2025-01-29T23:00:00.000",
          "2025-01-30T00:00:00.000",
          "2025-01-30T01:00:00.000",
          "2025-01-30T02:00:00.000",
          "2025-01-30T03:00:00.000",
          "2025-01-30T04:00:00.000",
          "2025-01-30T05:00:00.000",
          "2025-01-30T06:00:00.000",
          "2025-01-30T07:00:00.000"
         ],
         "xaxis": "x",
         "y": {
          "bdata": "AAAAAAAA+H8AAAAAAAD4fwAAAAAAAPh/AAAAAAAA+H8AAAAAAAD4fwAAAAAAAPh/AAAAAAAA+H8AAAAAAAD4fwAAAAAAAPh/AAAAAAAA+H8AAAAAAAD4fwAAAAAAAPh/AAAAAAAA+H8AAAAAAAD4fwAAAAAAAPh/AAAAAAAA+H8AAAAAAAD4fwAAAAAAAPh/AAAAAAAA+H8AAAAAAAD4fwAAAAAAAPh/AAAAAAAA+H8AAAAAAAD4fwAAAAAAAPh/AAAAAAAA+H8AAAAAAAD4fwAAAAAAAPh/AAAAAAAA+H8AAAAAAAD4fwAAAAAAAPh/AAAAAAAA+H8AAAAAAAD4fwAAAAAAAPh/AAAAAAAA+H8AAAAAAAD4fwAAAAAAAPh/AAAAAAAA+H8AAAAAAAD4fwAAAAAAAPh/AAAAAAAA+H8AAAAAAAD4fwAAAAAAAPh/AAAAAAAA+H8AAAAAAAD4fwAAAAAAAPh/AAAAAAAA+H8AAAAAAAD4fwAAAAAAAPh/AAAAAAAA+H8AAAAAAAD4fwAAAAAAAPh/AAAAAAAA+H8AAAAAAAD4fwAAAAAAAPh/AAAAAAAA+H8AAAAAAAD4fwAAAAAAAPh/AAAAAAAA+H8AAAAAAAD4fwAAAAAAAPh/AAAAAAAA+H8AAAAAAAD4fwAAAAAAAPh/AAAAAAAA+H8AAAAAAAD4fwAAAAAAAPh/AAAAAAAA+H8AAAAAAAD4fwAAAAAAAPh/AAAAAAAA+H8AAAAAAAD4fwAAAAAAAPh/AAAAAAAA+H8AAAAAAAD4fwAAAAAAAPh/AAAAAAAA+H8AAAAAAAD4fwAAAAAAAPh/IKNnBnjjK8AAzu2UvTnhvwAExidx/te/ACA9ucDrqj8ASAgaAvvHvwAQwImnwLU/AMCrNVPSlj8A2LRcZNfKvwAi0yKk1+y/ADAIV/UO2L8AgpIKlSnsvwCk9aiz8ve/ANg0CssC7r8A/KJcpbTevwD+AKy37eW/ADomP3rn5b8AqleqBcPqvwCi9KKwTeC/AGDRH2wv4L8A1E/n1+vQvwBRTzwl4fi/AAwLRGzM8r8Aho+69ZD+vw==",
          "dtype": "f8"
         },
         "yaxis": "y"
        }
       ],
       "layout": {
        "legend": {
         "title": {
          "text": "system_id"
         },
         "tracegroupgap": 0
        },
        "margin": {
         "t": 60
        },
        "template": {
         "data": {
          "bar": [
           {
            "error_x": {
             "color": "#2a3f5f"
            },
            "error_y": {
             "color": "#2a3f5f"
            },
            "marker": {
             "line": {
              "color": "#E5ECF6",
              "width": 0.5
             },
             "pattern": {
              "fillmode": "overlay",
              "size": 10,
              "solidity": 0.2
             }
            },
            "type": "bar"
           }
          ],
          "barpolar": [
           {
            "marker": {
             "line": {
              "color": "#E5ECF6",
              "width": 0.5
             },
             "pattern": {
              "fillmode": "overlay",
              "size": 10,
              "solidity": 0.2
             }
            },
            "type": "barpolar"
           }
          ],
          "carpet": [
           {
            "aaxis": {
             "endlinecolor": "#2a3f5f",
             "gridcolor": "white",
             "linecolor": "white",
             "minorgridcolor": "white",
             "startlinecolor": "#2a3f5f"
            },
            "baxis": {
             "endlinecolor": "#2a3f5f",
             "gridcolor": "white",
             "linecolor": "white",
             "minorgridcolor": "white",
             "startlinecolor": "#2a3f5f"
            },
            "type": "carpet"
           }
          ],
          "choropleth": [
           {
            "colorbar": {
             "outlinewidth": 0,
             "ticks": ""
            },
            "type": "choropleth"
           }
          ],
          "contour": [
           {
            "colorbar": {
             "outlinewidth": 0,
             "ticks": ""
            },
            "colorscale": [
             [
              0,
              "#0d0887"
             ],
             [
              0.1111111111111111,
              "#46039f"
             ],
             [
              0.2222222222222222,
              "#7201a8"
             ],
             [
              0.3333333333333333,
              "#9c179e"
             ],
             [
              0.4444444444444444,
              "#bd3786"
             ],
             [
              0.5555555555555556,
              "#d8576b"
             ],
             [
              0.6666666666666666,
              "#ed7953"
             ],
             [
              0.7777777777777778,
              "#fb9f3a"
             ],
             [
              0.8888888888888888,
              "#fdca26"
             ],
             [
              1,
              "#f0f921"
             ]
            ],
            "type": "contour"
           }
          ],
          "contourcarpet": [
           {
            "colorbar": {
             "outlinewidth": 0,
             "ticks": ""
            },
            "type": "contourcarpet"
           }
          ],
          "heatmap": [
           {
            "colorbar": {
             "outlinewidth": 0,
             "ticks": ""
            },
            "colorscale": [
             [
              0,
              "#0d0887"
             ],
             [
              0.1111111111111111,
              "#46039f"
             ],
             [
              0.2222222222222222,
              "#7201a8"
             ],
             [
              0.3333333333333333,
              "#9c179e"
             ],
             [
              0.4444444444444444,
              "#bd3786"
             ],
             [
              0.5555555555555556,
              "#d8576b"
             ],
             [
              0.6666666666666666,
              "#ed7953"
             ],
             [
              0.7777777777777778,
              "#fb9f3a"
             ],
             [
              0.8888888888888888,
              "#fdca26"
             ],
             [
              1,
              "#f0f921"
             ]
            ],
            "type": "heatmap"
           }
          ],
          "histogram": [
           {
            "marker": {
             "pattern": {
              "fillmode": "overlay",
              "size": 10,
              "solidity": 0.2
             }
            },
            "type": "histogram"
           }
          ],
          "histogram2d": [
           {
            "colorbar": {
             "outlinewidth": 0,
             "ticks": ""
            },
            "colorscale": [
             [
              0,
              "#0d0887"
             ],
             [
              0.1111111111111111,
              "#46039f"
             ],
             [
              0.2222222222222222,
              "#7201a8"
             ],
             [
              0.3333333333333333,
              "#9c179e"
             ],
             [
              0.4444444444444444,
              "#bd3786"
             ],
             [
              0.5555555555555556,
              "#d8576b"
             ],
             [
              0.6666666666666666,
              "#ed7953"
             ],
             [
              0.7777777777777778,
              "#fb9f3a"
             ],
             [
              0.8888888888888888,
              "#fdca26"
             ],
             [
              1,
              "#f0f921"
             ]
            ],
            "type": "histogram2d"
           }
          ],
          "histogram2dcontour": [
           {
            "colorbar": {
             "outlinewidth": 0,
             "ticks": ""
            },
            "colorscale": [
             [
              0,
              "#0d0887"
             ],
             [
              0.1111111111111111,
              "#46039f"
             ],
             [
              0.2222222222222222,
              "#7201a8"
             ],
             [
              0.3333333333333333,
              "#9c179e"
             ],
             [
              0.4444444444444444,
              "#bd3786"
             ],
             [
              0.5555555555555556,
              "#d8576b"
             ],
             [
              0.6666666666666666,
              "#ed7953"
             ],
             [
              0.7777777777777778,
              "#fb9f3a"
             ],
             [
              0.8888888888888888,
              "#fdca26"
             ],
             [
              1,
              "#f0f921"
             ]
            ],
            "type": "histogram2dcontour"
           }
          ],
          "mesh3d": [
           {
            "colorbar": {
             "outlinewidth": 0,
             "ticks": ""
            },
            "type": "mesh3d"
           }
          ],
          "parcoords": [
           {
            "line": {
             "colorbar": {
              "outlinewidth": 0,
              "ticks": ""
             }
            },
            "type": "parcoords"
           }
          ],
          "pie": [
           {
            "automargin": true,
            "type": "pie"
           }
          ],
          "scatter": [
           {
            "fillpattern": {
             "fillmode": "overlay",
             "size": 10,
             "solidity": 0.2
            },
            "type": "scatter"
           }
          ],
          "scatter3d": [
           {
            "line": {
             "colorbar": {
              "outlinewidth": 0,
              "ticks": ""
             }
            },
            "marker": {
             "colorbar": {
              "outlinewidth": 0,
              "ticks": ""
             }
            },
            "type": "scatter3d"
           }
          ],
          "scattercarpet": [
           {
            "marker": {
             "colorbar": {
              "outlinewidth": 0,
              "ticks": ""
             }
            },
            "type": "scattercarpet"
           }
          ],
          "scattergeo": [
           {
            "marker": {
             "colorbar": {
              "outlinewidth": 0,
              "ticks": ""
             }
            },
            "type": "scattergeo"
           }
          ],
          "scattergl": [
           {
            "marker": {
             "colorbar": {
              "outlinewidth": 0,
              "ticks": ""
             }
            },
            "type": "scattergl"
           }
          ],
          "scattermap": [
           {
            "marker": {
             "colorbar": {
              "outlinewidth": 0,
              "ticks": ""
             }
            },
            "type": "scattermap"
           }
          ],
          "scattermapbox": [
           {
            "marker": {
             "colorbar": {
              "outlinewidth": 0,
              "ticks": ""
             }
            },
            "type": "scattermapbox"
           }
          ],
          "scatterpolar": [
           {
            "marker": {
             "colorbar": {
              "outlinewidth": 0,
              "ticks": ""
             }
            },
            "type": "scatterpolar"
           }
          ],
          "scatterpolargl": [
           {
            "marker": {
             "colorbar": {
              "outlinewidth": 0,
              "ticks": ""
             }
            },
            "type": "scatterpolargl"
           }
          ],
          "scatterternary": [
           {
            "marker": {
             "colorbar": {
              "outlinewidth": 0,
              "ticks": ""
             }
            },
            "type": "scatterternary"
           }
          ],
          "surface": [
           {
            "colorbar": {
             "outlinewidth": 0,
             "ticks": ""
            },
            "colorscale": [
             [
              0,
              "#0d0887"
             ],
             [
              0.1111111111111111,
              "#46039f"
             ],
             [
              0.2222222222222222,
              "#7201a8"
             ],
             [
              0.3333333333333333,
              "#9c179e"
             ],
             [
              0.4444444444444444,
              "#bd3786"
             ],
             [
              0.5555555555555556,
              "#d8576b"
             ],
             [
              0.6666666666666666,
              "#ed7953"
             ],
             [
              0.7777777777777778,
              "#fb9f3a"
             ],
             [
              0.8888888888888888,
              "#fdca26"
             ],
             [
              1,
              "#f0f921"
             ]
            ],
            "type": "surface"
           }
          ],
          "table": [
           {
            "cells": {
             "fill": {
              "color": "#EBF0F8"
             },
             "line": {
              "color": "white"
             }
            },
            "header": {
             "fill": {
              "color": "#C8D4E3"
             },
             "line": {
              "color": "white"
             }
            },
            "type": "table"
           }
          ]
         },
         "layout": {
          "annotationdefaults": {
           "arrowcolor": "#2a3f5f",
           "arrowhead": 0,
           "arrowwidth": 1
          },
          "autotypenumbers": "strict",
          "coloraxis": {
           "colorbar": {
            "outlinewidth": 0,
            "ticks": ""
           }
          },
          "colorscale": {
           "diverging": [
            [
             0,
             "#8e0152"
            ],
            [
             0.1,
             "#c51b7d"
            ],
            [
             0.2,
             "#de77ae"
            ],
            [
             0.3,
             "#f1b6da"
            ],
            [
             0.4,
             "#fde0ef"
            ],
            [
             0.5,
             "#f7f7f7"
            ],
            [
             0.6,
             "#e6f5d0"
            ],
            [
             0.7,
             "#b8e186"
            ],
            [
             0.8,
             "#7fbc41"
            ],
            [
             0.9,
             "#4d9221"
            ],
            [
             1,
             "#276419"
            ]
           ],
           "sequential": [
            [
             0,
             "#0d0887"
            ],
            [
             0.1111111111111111,
             "#46039f"
            ],
            [
             0.2222222222222222,
             "#7201a8"
            ],
            [
             0.3333333333333333,
             "#9c179e"
            ],
            [
             0.4444444444444444,
             "#bd3786"
            ],
            [
             0.5555555555555556,
             "#d8576b"
            ],
            [
             0.6666666666666666,
             "#ed7953"
            ],
            [
             0.7777777777777778,
             "#fb9f3a"
            ],
            [
             0.8888888888888888,
             "#fdca26"
            ],
            [
             1,
             "#f0f921"
            ]
           ],
           "sequentialminus": [
            [
             0,
             "#0d0887"
            ],
            [
             0.1111111111111111,
             "#46039f"
            ],
            [
             0.2222222222222222,
             "#7201a8"
            ],
            [
             0.3333333333333333,
             "#9c179e"
            ],
            [
             0.4444444444444444,
             "#bd3786"
            ],
            [
             0.5555555555555556,
             "#d8576b"
            ],
            [
             0.6666666666666666,
             "#ed7953"
            ],
            [
             0.7777777777777778,
             "#fb9f3a"
            ],
            [
             0.8888888888888888,
             "#fdca26"
            ],
            [
             1,
             "#f0f921"
            ]
           ]
          },
          "colorway": [
           "#636efa",
           "#EF553B",
           "#00cc96",
           "#ab63fa",
           "#FFA15A",
           "#19d3f3",
           "#FF6692",
           "#B6E880",
           "#FF97FF",
           "#FECB52"
          ],
          "font": {
           "color": "#2a3f5f"
          },
          "geo": {
           "bgcolor": "white",
           "lakecolor": "white",
           "landcolor": "#E5ECF6",
           "showlakes": true,
           "showland": true,
           "subunitcolor": "white"
          },
          "hoverlabel": {
           "align": "left"
          },
          "hovermode": "closest",
          "mapbox": {
           "style": "light"
          },
          "paper_bgcolor": "white",
          "plot_bgcolor": "#E5ECF6",
          "polar": {
           "angularaxis": {
            "gridcolor": "white",
            "linecolor": "white",
            "ticks": ""
           },
           "bgcolor": "#E5ECF6",
           "radialaxis": {
            "gridcolor": "white",
            "linecolor": "white",
            "ticks": ""
           }
          },
          "scene": {
           "xaxis": {
            "backgroundcolor": "#E5ECF6",
            "gridcolor": "white",
            "gridwidth": 2,
            "linecolor": "white",
            "showbackground": true,
            "ticks": "",
            "zerolinecolor": "white"
           },
           "yaxis": {
            "backgroundcolor": "#E5ECF6",
            "gridcolor": "white",
            "gridwidth": 2,
            "linecolor": "white",
            "showbackground": true,
            "ticks": "",
            "zerolinecolor": "white"
           },
           "zaxis": {
            "backgroundcolor": "#E5ECF6",
            "gridcolor": "white",
            "gridwidth": 2,
            "linecolor": "white",
            "showbackground": true,
            "ticks": "",
            "zerolinecolor": "white"
           }
          },
          "shapedefaults": {
           "line": {
            "color": "#2a3f5f"
           }
          },
          "ternary": {
           "aaxis": {
            "gridcolor": "white",
            "linecolor": "white",
            "ticks": ""
           },
           "baxis": {
            "gridcolor": "white",
            "linecolor": "white",
            "ticks": ""
           },
           "bgcolor": "#E5ECF6",
           "caxis": {
            "gridcolor": "white",
            "linecolor": "white",
            "ticks": ""
           }
          },
          "title": {
           "x": 0.05
          },
          "xaxis": {
           "automargin": true,
           "gridcolor": "white",
           "linecolor": "white",
           "ticks": "",
           "title": {
            "standoff": 15
           },
           "zerolinecolor": "white",
           "zerolinewidth": 2
          },
          "yaxis": {
           "automargin": true,
           "gridcolor": "white",
           "linecolor": "white",
           "ticks": "",
           "title": {
            "standoff": 15
           },
           "zerolinecolor": "white",
           "zerolinewidth": 2
          }
         }
        },
        "xaxis": {
         "anchor": "y",
         "domain": [
          0,
          1
         ],
         "title": {
          "text": "datetime"
         }
        },
        "yaxis": {
         "anchor": "x",
         "domain": [
          0,
          1
         ],
         "range": [
          -3,
          3
         ],
         "title": {
          "text": "diff"
         }
        }
       }
      }
     },
     "metadata": {},
     "output_type": "display_data"
    }
   ],
   "source": [
    "# plot\n",
    "fig = px.line(\n",
    "    df_plot,\n",
    "    x=\"datetime\",\n",
    "    y=\"diff\",\n",
    "    markers=True,\n",
    "    color=\"system_id\"\n",
    ")\n",
    "fig.update_layout(yaxis_range=[-3,3])\n",
    "fig.show()"
   ]
  }
 ],
 "metadata": {
  "kernelspec": {
   "display_name": ".venv",
   "language": "python",
   "name": "python3"
  },
  "language_info": {
   "codemirror_mode": {
    "name": "ipython",
    "version": 3
   },
   "file_extension": ".py",
   "mimetype": "text/x-python",
   "name": "python",
   "nbconvert_exporter": "python",
   "pygments_lexer": "ipython3",
   "version": "3.12.7"
  }
 },
 "nbformat": 4,
 "nbformat_minor": 2
}
